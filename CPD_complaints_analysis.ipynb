{
 "cells": [
  {
   "cell_type": "markdown",
   "metadata": {},
   "source": [
    "# Libraries"
   ]
  },
  {
   "cell_type": "code",
   "execution_count": 85,
   "metadata": {},
   "outputs": [
    {
     "data": {
      "text/html": [
       "\n",
       "    <div class=\"bk-root\">\n",
       "        <a href=\"https://bokeh.pydata.org\" target=\"_blank\" class=\"bk-logo bk-logo-small bk-logo-notebook\"></a>\n",
       "        <span id=\"1648\">Loading BokehJS ...</span>\n",
       "    </div>"
      ]
     },
     "metadata": {},
     "output_type": "display_data"
    },
    {
     "data": {
      "application/javascript": [
       "\n",
       "(function(root) {\n",
       "  function now() {\n",
       "    return new Date();\n",
       "  }\n",
       "\n",
       "  var force = true;\n",
       "\n",
       "  if (typeof (root._bokeh_onload_callbacks) === \"undefined\" || force === true) {\n",
       "    root._bokeh_onload_callbacks = [];\n",
       "    root._bokeh_is_loading = undefined;\n",
       "  }\n",
       "\n",
       "  var JS_MIME_TYPE = 'application/javascript';\n",
       "  var HTML_MIME_TYPE = 'text/html';\n",
       "  var EXEC_MIME_TYPE = 'application/vnd.bokehjs_exec.v0+json';\n",
       "  var CLASS_NAME = 'output_bokeh rendered_html';\n",
       "\n",
       "  /**\n",
       "   * Render data to the DOM node\n",
       "   */\n",
       "  function render(props, node) {\n",
       "    var script = document.createElement(\"script\");\n",
       "    node.appendChild(script);\n",
       "  }\n",
       "\n",
       "  /**\n",
       "   * Handle when an output is cleared or removed\n",
       "   */\n",
       "  function handleClearOutput(event, handle) {\n",
       "    var cell = handle.cell;\n",
       "\n",
       "    var id = cell.output_area._bokeh_element_id;\n",
       "    var server_id = cell.output_area._bokeh_server_id;\n",
       "    // Clean up Bokeh references\n",
       "    if (id != null && id in Bokeh.index) {\n",
       "      Bokeh.index[id].model.document.clear();\n",
       "      delete Bokeh.index[id];\n",
       "    }\n",
       "\n",
       "    if (server_id !== undefined) {\n",
       "      // Clean up Bokeh references\n",
       "      var cmd = \"from bokeh.io.state import curstate; print(curstate().uuid_to_server['\" + server_id + \"'].get_sessions()[0].document.roots[0]._id)\";\n",
       "      cell.notebook.kernel.execute(cmd, {\n",
       "        iopub: {\n",
       "          output: function(msg) {\n",
       "            var id = msg.content.text.trim();\n",
       "            if (id in Bokeh.index) {\n",
       "              Bokeh.index[id].model.document.clear();\n",
       "              delete Bokeh.index[id];\n",
       "            }\n",
       "          }\n",
       "        }\n",
       "      });\n",
       "      // Destroy server and session\n",
       "      var cmd = \"import bokeh.io.notebook as ion; ion.destroy_server('\" + server_id + \"')\";\n",
       "      cell.notebook.kernel.execute(cmd);\n",
       "    }\n",
       "  }\n",
       "\n",
       "  /**\n",
       "   * Handle when a new output is added\n",
       "   */\n",
       "  function handleAddOutput(event, handle) {\n",
       "    var output_area = handle.output_area;\n",
       "    var output = handle.output;\n",
       "\n",
       "    // limit handleAddOutput to display_data with EXEC_MIME_TYPE content only\n",
       "    if ((output.output_type != \"display_data\") || (!output.data.hasOwnProperty(EXEC_MIME_TYPE))) {\n",
       "      return\n",
       "    }\n",
       "\n",
       "    var toinsert = output_area.element.find(\".\" + CLASS_NAME.split(' ')[0]);\n",
       "\n",
       "    if (output.metadata[EXEC_MIME_TYPE][\"id\"] !== undefined) {\n",
       "      toinsert[toinsert.length - 1].firstChild.textContent = output.data[JS_MIME_TYPE];\n",
       "      // store reference to embed id on output_area\n",
       "      output_area._bokeh_element_id = output.metadata[EXEC_MIME_TYPE][\"id\"];\n",
       "    }\n",
       "    if (output.metadata[EXEC_MIME_TYPE][\"server_id\"] !== undefined) {\n",
       "      var bk_div = document.createElement(\"div\");\n",
       "      bk_div.innerHTML = output.data[HTML_MIME_TYPE];\n",
       "      var script_attrs = bk_div.children[0].attributes;\n",
       "      for (var i = 0; i < script_attrs.length; i++) {\n",
       "        toinsert[toinsert.length - 1].firstChild.setAttribute(script_attrs[i].name, script_attrs[i].value);\n",
       "      }\n",
       "      // store reference to server id on output_area\n",
       "      output_area._bokeh_server_id = output.metadata[EXEC_MIME_TYPE][\"server_id\"];\n",
       "    }\n",
       "  }\n",
       "\n",
       "  function register_renderer(events, OutputArea) {\n",
       "\n",
       "    function append_mime(data, metadata, element) {\n",
       "      // create a DOM node to render to\n",
       "      var toinsert = this.create_output_subarea(\n",
       "        metadata,\n",
       "        CLASS_NAME,\n",
       "        EXEC_MIME_TYPE\n",
       "      );\n",
       "      this.keyboard_manager.register_events(toinsert);\n",
       "      // Render to node\n",
       "      var props = {data: data, metadata: metadata[EXEC_MIME_TYPE]};\n",
       "      render(props, toinsert[toinsert.length - 1]);\n",
       "      element.append(toinsert);\n",
       "      return toinsert\n",
       "    }\n",
       "\n",
       "    /* Handle when an output is cleared or removed */\n",
       "    events.on('clear_output.CodeCell', handleClearOutput);\n",
       "    events.on('delete.Cell', handleClearOutput);\n",
       "\n",
       "    /* Handle when a new output is added */\n",
       "    events.on('output_added.OutputArea', handleAddOutput);\n",
       "\n",
       "    /**\n",
       "     * Register the mime type and append_mime function with output_area\n",
       "     */\n",
       "    OutputArea.prototype.register_mime_type(EXEC_MIME_TYPE, append_mime, {\n",
       "      /* Is output safe? */\n",
       "      safe: true,\n",
       "      /* Index of renderer in `output_area.display_order` */\n",
       "      index: 0\n",
       "    });\n",
       "  }\n",
       "\n",
       "  // register the mime type if in Jupyter Notebook environment and previously unregistered\n",
       "  if (root.Jupyter !== undefined) {\n",
       "    var events = require('base/js/events');\n",
       "    var OutputArea = require('notebook/js/outputarea').OutputArea;\n",
       "\n",
       "    if (OutputArea.prototype.mime_types().indexOf(EXEC_MIME_TYPE) == -1) {\n",
       "      register_renderer(events, OutputArea);\n",
       "    }\n",
       "  }\n",
       "\n",
       "  \n",
       "  if (typeof (root._bokeh_timeout) === \"undefined\" || force === true) {\n",
       "    root._bokeh_timeout = Date.now() + 5000;\n",
       "    root._bokeh_failed_load = false;\n",
       "  }\n",
       "\n",
       "  var NB_LOAD_WARNING = {'data': {'text/html':\n",
       "     \"<div style='background-color: #fdd'>\\n\"+\n",
       "     \"<p>\\n\"+\n",
       "     \"BokehJS does not appear to have successfully loaded. If loading BokehJS from CDN, this \\n\"+\n",
       "     \"may be due to a slow or bad network connection. Possible fixes:\\n\"+\n",
       "     \"</p>\\n\"+\n",
       "     \"<ul>\\n\"+\n",
       "     \"<li>re-rerun `output_notebook()` to attempt to load from CDN again, or</li>\\n\"+\n",
       "     \"<li>use INLINE resources instead, as so:</li>\\n\"+\n",
       "     \"</ul>\\n\"+\n",
       "     \"<code>\\n\"+\n",
       "     \"from bokeh.resources import INLINE\\n\"+\n",
       "     \"output_notebook(resources=INLINE)\\n\"+\n",
       "     \"</code>\\n\"+\n",
       "     \"</div>\"}};\n",
       "\n",
       "  function display_loaded() {\n",
       "    var el = document.getElementById(\"1648\");\n",
       "    if (el != null) {\n",
       "      el.textContent = \"BokehJS is loading...\";\n",
       "    }\n",
       "    if (root.Bokeh !== undefined) {\n",
       "      if (el != null) {\n",
       "        el.textContent = \"BokehJS \" + root.Bokeh.version + \" successfully loaded.\";\n",
       "      }\n",
       "    } else if (Date.now() < root._bokeh_timeout) {\n",
       "      setTimeout(display_loaded, 100)\n",
       "    }\n",
       "  }\n",
       "\n",
       "\n",
       "  function run_callbacks() {\n",
       "    try {\n",
       "      root._bokeh_onload_callbacks.forEach(function(callback) { callback() });\n",
       "    }\n",
       "    finally {\n",
       "      delete root._bokeh_onload_callbacks\n",
       "    }\n",
       "    console.info(\"Bokeh: all callbacks have finished\");\n",
       "  }\n",
       "\n",
       "  function load_libs(js_urls, callback) {\n",
       "    root._bokeh_onload_callbacks.push(callback);\n",
       "    if (root._bokeh_is_loading > 0) {\n",
       "      console.log(\"Bokeh: BokehJS is being loaded, scheduling callback at\", now());\n",
       "      return null;\n",
       "    }\n",
       "    if (js_urls == null || js_urls.length === 0) {\n",
       "      run_callbacks();\n",
       "      return null;\n",
       "    }\n",
       "    console.log(\"Bokeh: BokehJS not loaded, scheduling load and callback at\", now());\n",
       "    root._bokeh_is_loading = js_urls.length;\n",
       "    for (var i = 0; i < js_urls.length; i++) {\n",
       "      var url = js_urls[i];\n",
       "      var s = document.createElement('script');\n",
       "      s.src = url;\n",
       "      s.async = false;\n",
       "      s.onreadystatechange = s.onload = function() {\n",
       "        root._bokeh_is_loading--;\n",
       "        if (root._bokeh_is_loading === 0) {\n",
       "          console.log(\"Bokeh: all BokehJS libraries loaded\");\n",
       "          run_callbacks()\n",
       "        }\n",
       "      };\n",
       "      s.onerror = function() {\n",
       "        console.warn(\"failed to load library \" + url);\n",
       "      };\n",
       "      console.log(\"Bokeh: injecting script tag for BokehJS library: \", url);\n",
       "      document.getElementsByTagName(\"head\")[0].appendChild(s);\n",
       "    }\n",
       "  };var element = document.getElementById(\"1648\");\n",
       "  if (element == null) {\n",
       "    console.log(\"Bokeh: ERROR: autoload.js configured with elementid '1648' but no matching script tag was found. \")\n",
       "    return false;\n",
       "  }\n",
       "\n",
       "  var js_urls = [\"https://cdn.pydata.org/bokeh/release/bokeh-1.0.2.min.js\", \"https://cdn.pydata.org/bokeh/release/bokeh-widgets-1.0.2.min.js\", \"https://cdn.pydata.org/bokeh/release/bokeh-tables-1.0.2.min.js\", \"https://cdn.pydata.org/bokeh/release/bokeh-gl-1.0.2.min.js\"];\n",
       "\n",
       "  var inline_js = [\n",
       "    function(Bokeh) {\n",
       "      Bokeh.set_log_level(\"info\");\n",
       "    },\n",
       "    \n",
       "    function(Bokeh) {\n",
       "      \n",
       "    },\n",
       "    function(Bokeh) {\n",
       "      console.log(\"Bokeh: injecting CSS: https://cdn.pydata.org/bokeh/release/bokeh-1.0.2.min.css\");\n",
       "      Bokeh.embed.inject_css(\"https://cdn.pydata.org/bokeh/release/bokeh-1.0.2.min.css\");\n",
       "      console.log(\"Bokeh: injecting CSS: https://cdn.pydata.org/bokeh/release/bokeh-widgets-1.0.2.min.css\");\n",
       "      Bokeh.embed.inject_css(\"https://cdn.pydata.org/bokeh/release/bokeh-widgets-1.0.2.min.css\");\n",
       "      console.log(\"Bokeh: injecting CSS: https://cdn.pydata.org/bokeh/release/bokeh-tables-1.0.2.min.css\");\n",
       "      Bokeh.embed.inject_css(\"https://cdn.pydata.org/bokeh/release/bokeh-tables-1.0.2.min.css\");\n",
       "    }\n",
       "  ];\n",
       "\n",
       "  function run_inline_js() {\n",
       "    \n",
       "    if ((root.Bokeh !== undefined) || (force === true)) {\n",
       "      for (var i = 0; i < inline_js.length; i++) {\n",
       "        inline_js[i].call(root, root.Bokeh);\n",
       "      }if (force === true) {\n",
       "        display_loaded();\n",
       "      }} else if (Date.now() < root._bokeh_timeout) {\n",
       "      setTimeout(run_inline_js, 100);\n",
       "    } else if (!root._bokeh_failed_load) {\n",
       "      console.log(\"Bokeh: BokehJS failed to load within specified timeout.\");\n",
       "      root._bokeh_failed_load = true;\n",
       "    } else if (force !== true) {\n",
       "      var cell = $(document.getElementById(\"1648\")).parents('.cell').data().cell;\n",
       "      cell.output_area.append_execute_result(NB_LOAD_WARNING)\n",
       "    }\n",
       "\n",
       "  }\n",
       "\n",
       "  if (root._bokeh_is_loading === 0) {\n",
       "    console.log(\"Bokeh: BokehJS loaded, going straight to plotting\");\n",
       "    run_inline_js();\n",
       "  } else {\n",
       "    load_libs(js_urls, function() {\n",
       "      console.log(\"Bokeh: BokehJS plotting callback run at\", now());\n",
       "      run_inline_js();\n",
       "    });\n",
       "  }\n",
       "}(window));"
      ],
      "application/vnd.bokehjs_load.v0+json": "\n(function(root) {\n  function now() {\n    return new Date();\n  }\n\n  var force = true;\n\n  if (typeof (root._bokeh_onload_callbacks) === \"undefined\" || force === true) {\n    root._bokeh_onload_callbacks = [];\n    root._bokeh_is_loading = undefined;\n  }\n\n  \n\n  \n  if (typeof (root._bokeh_timeout) === \"undefined\" || force === true) {\n    root._bokeh_timeout = Date.now() + 5000;\n    root._bokeh_failed_load = false;\n  }\n\n  var NB_LOAD_WARNING = {'data': {'text/html':\n     \"<div style='background-color: #fdd'>\\n\"+\n     \"<p>\\n\"+\n     \"BokehJS does not appear to have successfully loaded. If loading BokehJS from CDN, this \\n\"+\n     \"may be due to a slow or bad network connection. Possible fixes:\\n\"+\n     \"</p>\\n\"+\n     \"<ul>\\n\"+\n     \"<li>re-rerun `output_notebook()` to attempt to load from CDN again, or</li>\\n\"+\n     \"<li>use INLINE resources instead, as so:</li>\\n\"+\n     \"</ul>\\n\"+\n     \"<code>\\n\"+\n     \"from bokeh.resources import INLINE\\n\"+\n     \"output_notebook(resources=INLINE)\\n\"+\n     \"</code>\\n\"+\n     \"</div>\"}};\n\n  function display_loaded() {\n    var el = document.getElementById(\"1648\");\n    if (el != null) {\n      el.textContent = \"BokehJS is loading...\";\n    }\n    if (root.Bokeh !== undefined) {\n      if (el != null) {\n        el.textContent = \"BokehJS \" + root.Bokeh.version + \" successfully loaded.\";\n      }\n    } else if (Date.now() < root._bokeh_timeout) {\n      setTimeout(display_loaded, 100)\n    }\n  }\n\n\n  function run_callbacks() {\n    try {\n      root._bokeh_onload_callbacks.forEach(function(callback) { callback() });\n    }\n    finally {\n      delete root._bokeh_onload_callbacks\n    }\n    console.info(\"Bokeh: all callbacks have finished\");\n  }\n\n  function load_libs(js_urls, callback) {\n    root._bokeh_onload_callbacks.push(callback);\n    if (root._bokeh_is_loading > 0) {\n      console.log(\"Bokeh: BokehJS is being loaded, scheduling callback at\", now());\n      return null;\n    }\n    if (js_urls == null || js_urls.length === 0) {\n      run_callbacks();\n      return null;\n    }\n    console.log(\"Bokeh: BokehJS not loaded, scheduling load and callback at\", now());\n    root._bokeh_is_loading = js_urls.length;\n    for (var i = 0; i < js_urls.length; i++) {\n      var url = js_urls[i];\n      var s = document.createElement('script');\n      s.src = url;\n      s.async = false;\n      s.onreadystatechange = s.onload = function() {\n        root._bokeh_is_loading--;\n        if (root._bokeh_is_loading === 0) {\n          console.log(\"Bokeh: all BokehJS libraries loaded\");\n          run_callbacks()\n        }\n      };\n      s.onerror = function() {\n        console.warn(\"failed to load library \" + url);\n      };\n      console.log(\"Bokeh: injecting script tag for BokehJS library: \", url);\n      document.getElementsByTagName(\"head\")[0].appendChild(s);\n    }\n  };var element = document.getElementById(\"1648\");\n  if (element == null) {\n    console.log(\"Bokeh: ERROR: autoload.js configured with elementid '1648' but no matching script tag was found. \")\n    return false;\n  }\n\n  var js_urls = [\"https://cdn.pydata.org/bokeh/release/bokeh-1.0.2.min.js\", \"https://cdn.pydata.org/bokeh/release/bokeh-widgets-1.0.2.min.js\", \"https://cdn.pydata.org/bokeh/release/bokeh-tables-1.0.2.min.js\", \"https://cdn.pydata.org/bokeh/release/bokeh-gl-1.0.2.min.js\"];\n\n  var inline_js = [\n    function(Bokeh) {\n      Bokeh.set_log_level(\"info\");\n    },\n    \n    function(Bokeh) {\n      \n    },\n    function(Bokeh) {\n      console.log(\"Bokeh: injecting CSS: https://cdn.pydata.org/bokeh/release/bokeh-1.0.2.min.css\");\n      Bokeh.embed.inject_css(\"https://cdn.pydata.org/bokeh/release/bokeh-1.0.2.min.css\");\n      console.log(\"Bokeh: injecting CSS: https://cdn.pydata.org/bokeh/release/bokeh-widgets-1.0.2.min.css\");\n      Bokeh.embed.inject_css(\"https://cdn.pydata.org/bokeh/release/bokeh-widgets-1.0.2.min.css\");\n      console.log(\"Bokeh: injecting CSS: https://cdn.pydata.org/bokeh/release/bokeh-tables-1.0.2.min.css\");\n      Bokeh.embed.inject_css(\"https://cdn.pydata.org/bokeh/release/bokeh-tables-1.0.2.min.css\");\n    }\n  ];\n\n  function run_inline_js() {\n    \n    if ((root.Bokeh !== undefined) || (force === true)) {\n      for (var i = 0; i < inline_js.length; i++) {\n        inline_js[i].call(root, root.Bokeh);\n      }if (force === true) {\n        display_loaded();\n      }} else if (Date.now() < root._bokeh_timeout) {\n      setTimeout(run_inline_js, 100);\n    } else if (!root._bokeh_failed_load) {\n      console.log(\"Bokeh: BokehJS failed to load within specified timeout.\");\n      root._bokeh_failed_load = true;\n    } else if (force !== true) {\n      var cell = $(document.getElementById(\"1648\")).parents('.cell').data().cell;\n      cell.output_area.append_execute_result(NB_LOAD_WARNING)\n    }\n\n  }\n\n  if (root._bokeh_is_loading === 0) {\n    console.log(\"Bokeh: BokehJS loaded, going straight to plotting\");\n    run_inline_js();\n  } else {\n    load_libs(js_urls, function() {\n      console.log(\"Bokeh: BokehJS plotting callback run at\", now());\n      run_inline_js();\n    });\n  }\n}(window));"
     },
     "metadata": {},
     "output_type": "display_data"
    }
   ],
   "source": [
    "import os\n",
    "import pandas as pd\n",
    "import numpy as np\n",
    "import bokeh\n",
    "from bokeh.plotting import figure, show\n",
    "from bokeh.layouts import gridplot\n",
    "from ipywidgets import interact, interact_manual\n",
    "from bokeh.io import output_notebook\n",
    "from bokeh.models import Legend, LegendItem\n",
    "from bokeh.models import ColumnDataSource\n",
    "from bokeh.models import HoverTool\n",
    "output_notebook()\n",
    "from numpy import pi\n",
    "from bokeh.transform import cumsum\n",
    "from bokeh.models.widgets import Panel, Tabs\n",
    "from bokeh.palettes import Spectral\n",
    "from bokeh.palettes import RdBu3\n",
    "from bokeh.palettes import Category20c"
   ]
  },
  {
   "cell_type": "markdown",
   "metadata": {},
   "source": [
    "# Functions"
   ]
  },
  {
   "cell_type": "code",
   "execution_count": 86,
   "metadata": {},
   "outputs": [],
   "source": [
    "def load_df(dict):\n",
    "    df_dict = {}\n",
    "    for key in dict.keys():\n",
    "        df_dict['df_{}'.format(key)]=pd.read_csv(os.path.join(path_dict[key]))\n",
    "    return df_dict"
   ]
  },
  {
   "cell_type": "code",
   "execution_count": 87,
   "metadata": {},
   "outputs": [],
   "source": [
    "def merge_codes(df1,df_cod, left_column_key):\n",
    "    merged_df = df1.merge(df_cod.drop(columns = ['NOTES']),\n",
    "                          how = 'left',\n",
    "                          left_on = left_column_key,\n",
    "                          right_on = 'CODE',\n",
    "                          indicator = True).rename(\n",
    "                                                    columns={'ACTION_TAKEN': '{}_action'.format(left_column_key)}).drop(\n",
    "                                                                                                                    columns = 'CODE')\n",
    "    merge_result = merged_df['_merge'].value_counts()\n",
    "    print('{} observations were matched, representing {}% of total observations'.format(merge_result[2],\n",
    "                                                                                        round((merge_result[2]/len(merged_df)*100),2)))\n",
    "    return merged_df.drop(columns = '_merge')"
   ]
  },
  {
   "cell_type": "code",
   "execution_count": 88,
   "metadata": {},
   "outputs": [],
   "source": [
    "def merge_accused_to_codes(df1, df_cod):\n",
    "    df_first_step = merge_codes(df1, df_cod, 'recommended_discipline')\n",
    "    df_second_step = merge_codes(df_first_step, df_cod, 'final_discipline')\n",
    "    return df_second_step"
   ]
  },
  {
   "cell_type": "code",
   "execution_count": 89,
   "metadata": {},
   "outputs": [],
   "source": [
    "def merge_df(df1,df2):\n",
    "    new_df = df1.merge(df2, how = 'outer', on = 'cr_id', indicator = True, suffixes = ('_accused', '_investigator'))\n",
    "    merge_result = new_df['_merge'].value_counts()\n",
    "    print('{} observations were matched, representing {}% of the new dataframe'.format(merge_result[2],\n",
    "                                                                                        round((merge_result[2]/len(new_df)*100),2)))\n",
    "    return new_df.drop(columns = '_merge')"
   ]
  },
  {
   "cell_type": "code",
   "execution_count": 90,
   "metadata": {},
   "outputs": [],
   "source": [
    "def filter_unique_cr_id(df):\n",
    "    duplicates_identifier = df.duplicated(subset=['cr_id','UID_accused'], keep= 'first')\n",
    "    #include a counter of the number of duplicate cr_id that are removed\n",
    "    df_unique_complaints = df[duplicates_identifier == False]\n",
    "    return df_unique_complaints"
   ]
  },
  {
   "cell_type": "code",
   "execution_count": 91,
   "metadata": {},
   "outputs": [],
   "source": [
    "def get_relative_freq(df):\n",
    "    total_count=df['Count'].sum()\n",
    "    df['Relative_count']=df['Count'].map(lambda x: round((x/total_count)*100,2))\n",
    "    return df"
   ]
  },
  {
   "cell_type": "code",
   "execution_count": 92,
   "metadata": {},
   "outputs": [],
   "source": [
    "def filter_nan(df, columns):\n",
    "    filtered_df = df\n",
    "    for i in columns:\n",
    "        filtered_df[i] = df[df[i].notna()]\n",
    "    return filtered_df"
   ]
  },
  {
   "cell_type": "code",
   "execution_count": 93,
   "metadata": {},
   "outputs": [],
   "source": [
    "def histogram_df(df, complaint_cat='total'):\n",
    "    df = filter_unique_cr_id(df)\n",
    "    if complaint_cat != 'total':\n",
    "        df = df[df['complaint_category'] == complaint_cat]\n",
    "    else:\n",
    "        pass\n",
    "    final_df = df[df['age_victim'].notna()]\n",
    "    arr_hist, edges = np.histogram(final_df['age_victim'], # Source: https://bit.ly/2D7lu87\n",
    "                               bins = 106,\n",
    "                               range = (0,106))\n",
    "    hist_df = pd.DataFrame({'Count':   arr_hist, \n",
    "                            'left':  edges[:-1], \n",
    "                            'right': edges[1:]})\n",
    "    hist_df = get_relative_freq(hist_df)\n",
    "    return hist_df"
   ]
  },
  {
   "cell_type": "code",
   "execution_count": 94,
   "metadata": {},
   "outputs": [],
   "source": [
    "def plot_histogram(df, complaint_cat):\n",
    "    \n",
    "    p = figure(plot_height = 600, plot_width = 600, \n",
    "           title = \"Distribution of total complaints by victim's age\",\n",
    "           x_axis_label = \"Victim's age\", \n",
    "           y_axis_label = 'Percentage of observations over total')\n",
    "    \n",
    "    overall_hist_df = histogram_df(df)\n",
    "    second_hist_df = histogram_df(df, complaint_cat)\n",
    "    src_second_hist = ColumnDataSource(second_hist_df)\n",
    "    \n",
    "    selected_complaint = p.quad(source=src_second_hist,\n",
    "                                bottom=0, top='Relative_count', \n",
    "                                left='left', right='right', \n",
    "                                fill_color='navy', line_color='white', alpha=0.7,\n",
    "                                hover_fill_alpha = 1.0, hover_fill_color = 'red')\n",
    "    \n",
    "    all_complaints = p.line(x=overall_hist_df['right'] ,y=overall_hist_df['Relative_count'], \n",
    "           line_color=\"#ff8888\", line_width=3, alpha=0.85) #Source: https://bit.ly/337c1bu and https://bit.ly/2XHmtFw\n",
    "    \n",
    "    legend = Legend(items=[(\"All complaints\",[all_complaints]), (\"{}\".format(complaint_cat),[selected_complaint])],\n",
    "                    location = 'top_right',\n",
    "                    border_line_color=\"white\") #Source: https://bit.ly/2KRNnFo and https://bit.ly/2DdMvqt    \n",
    "    \n",
    "    hover = HoverTool(tooltips=[('Age', '@right'), #Source: https://bit.ly/2Ok2ABk\n",
    "                            ('Number of complaints', '@Count'),\n",
    "                            ('Percentage of complaints', '@Relative_count'+'%')],\n",
    "                     renderers=[selected_complaint])\n",
    "    \n",
    "\n",
    "    p.add_tools(hover)\n",
    "    p.add_layout(legend)\n",
    "    p.legend.label_text_font_size = '6pt'#Source: https://bit.ly/2QNRBla\n",
    "    return p"
   ]
  },
  {
   "cell_type": "code",
   "execution_count": 95,
   "metadata": {},
   "outputs": [],
   "source": [
    "def retrieve_top_complaint_types(df, n=20):\n",
    "    df = filter_unique_cr_id(df)\n",
    "    top_complaints_df = df['complaint_category'].value_counts()[0:n].reset_index()\n",
    "    top_complaints = top_complaints_df['index']\n",
    "    return top_complaints"
   ]
  },
  {
   "cell_type": "code",
   "execution_count": 96,
   "metadata": {},
   "outputs": [],
   "source": [
    "def calculate_racial_proportion(race_of_accused):\n",
    "    chart_colours = [\"red\", \"green\", \"blue\", \"black\", \"orange\", \"blue\"]\n",
    "    df_race = merged_by_race_of_accused_and_victim_complaints.loc[merged_by_race_of_accused_and_victim_complaints['race_acc'] == race_of_accused]\n",
    "    df_race['angle'] = df_race['share_in_total_complaints_by_race']*2*pi\n",
    "    #df_race['color'] = chart_colours[len(df_race)]\n",
    "    df_race['color'] = Category20c[len(df_race)]    \n",
    "    plot_race = figure(plot_height=350, title= \"Race-wise proportion of victims when officer is {}\".format(race_of_accused), toolbar_location=None, tools=\"hover\", tooltips = \"@share_in_total_complaints_by_race:@race_invst_vic\")\n",
    "    plot_race.legend.label_text_font_size = '10pt'\n",
    "    plot_race.wedge(x=0, y=1, radius=0.3, start_angle=cumsum('angle', include_zero=True), end_angle=cumsum('angle'), line_color=\"white\", fill_color='color', legend='race_invst_vic', source=df_race)\n",
    "    plot_race.legend.location = \"top_left\"\n",
    "    plot_race.legend.click_policy=\"hide\"\n",
    "    plot_race.legend.label_text_font_size = \"6pt\"    \n",
    "  \n",
    "    return plot_race"
   ]
  },
  {
   "cell_type": "code",
   "execution_count": 97,
   "metadata": {},
   "outputs": [],
   "source": [
    "def calculate_gender_proportion(gender_of_accused):\n",
    "    chart_colours = [\"red\", \"green\", \"blue\", \"black\", \"orange\", \"blue\"]\n",
    "    c1 = RdBu3[2] # red\n",
    "    c2 = RdBu3[0] # blue\n",
    "    \n",
    "    \n",
    "    df_gender = merged_by_gender_of_accused_and_victim_complaints.loc[merged_by_gender_of_accused_and_victim_complaints['gender_acc'] == gender_of_accused]\n",
    "    df_gender['angle'] = df_gender['share_in_total_complaints_by_gender']*2*pi\n",
    "    #df_gender['color'] = chart_colours[len(df_gender)]\n",
    "    df_gender['color'] = [c1, c2]\n",
    "    plot_gender = figure(plot_height=350, title= \"Gender-wise proportion of victims when officer is {}\".format(gender_of_accused), toolbar_location=None, tools=\"hover\", tooltips = \"@share_in_total_complaints_by_gender:@gender_invst_vic\")\n",
    "    plot_gender.wedge(x=0, y=1, radius=0.4, start_angle=cumsum('angle', include_zero=True), end_angle=cumsum('angle'), line_color=\"white\", fill_color='color', legend='gender_invst_vic', source=df_gender)\n",
    "    \n",
    "    plot_gender.legend.location = \"top_left\"\n",
    "    plot_gender.legend.click_policy=\"hide\"\n",
    "    plot_gender.legend.label_text_font_size = \"6pt\"    \n",
    "    \n",
    "    return plot_gender"
   ]
  },
  {
   "cell_type": "code",
   "execution_count": 98,
   "metadata": {},
   "outputs": [],
   "source": [
    "def prepare_data_race_pie_chart_df(df):\n",
    "    total_df = df\n",
    "    complaints_by_race_of_victim = total_df.groupby(['race_victim']).size().reset_index(name = 'count').dropna()\n",
    "    total_complaints_by_race_of_victim = complaints_by_race_of_victim['count'].sum()\n",
    "    complaints_by_race_of_victim['share in total complaints'] = complaints_by_race_of_victim['count']/total_complaints_by_race_of_victim\n",
    "    complaints_by_race_of_accused_and_victim = total_df.groupby(['race_accused', 'race_victim']).size().reset_index(name = 'count').dropna()\n",
    "    complaints_by_race_of_accused = total_df.groupby(['race_accused', 'race_victim']).size().reset_index(name = 'count').dropna().groupby(by = ['race_accused'])['count'].sum().reset_index(name = 'total complaints')\n",
    "    merged_by_race_of_accused_and_victim_complaints = complaints_by_race_of_accused_and_victim.merge(complaints_by_race_of_accused, on = 'race_accused')\n",
    "    merged_by_race_of_accused_and_victim_complaints['share_in_total_complaints_by_race'] = merged_by_race_of_accused_and_victim_complaints['count']/merged_by_race_of_accused_and_victim_complaints['total complaints']\n",
    "    return merged_by_race_of_accused_and_victim_complaints\n",
    "    "
   ]
  },
  {
   "cell_type": "code",
   "execution_count": 99,
   "metadata": {},
   "outputs": [],
   "source": [
    "def prepare_data_gender_pie_chart_df(df):\n",
    "    total_df = df\n",
    "    complaints_by_gender_of_victim = total_df.groupby(['gender_victim']).size().reset_index(name = 'count').dropna()\n",
    "    total_complaints_by_gender_of_victim = complaints_by_gender_of_victim['count'].sum()\n",
    "    complaints_by_gender_of_victim['share in total complaints by gender'] = complaints_by_gender_of_victim['count']/total_complaints_by_gender_of_victim\n",
    "    complaints_by_gender_of_accused_and_victim = total_df.groupby(['gender_accused', 'gender_victim']).size().reset_index(name = 'count').dropna()\n",
    "    complaints_by_gender_of_accused = total_df.groupby(['gender_accused', 'gender_victim']).size().reset_index(name = 'count').dropna().groupby(by = ['gender_accused'])['count'].sum().reset_index(name = 'total complaints')\n",
    "    merged_by_gender_of_accused_and_victim_complaints = complaints_by_gender_of_accused_and_victim.merge(complaints_by_gender_of_accused, on = 'gender_accused')\n",
    "    merged_by_gender_of_accused_and_victim_complaints['share_in_total_complaints_by_gender'] = merged_by_gender_of_accused_and_victim_complaints['count']/merged_by_gender_of_accused_and_victim_complaints['total complaints']\n",
    "    return merged_by_gender_of_accused_and_victim_complaints"
   ]
  },
  {
   "cell_type": "code",
   "execution_count": 100,
   "metadata": {},
   "outputs": [],
   "source": [
    "def race_pie_chart(race_of_accused, race_pie_chart_df):\n",
    "    #YOU NEVER DEFINED race_pie_chart_df\n",
    "    df_race = race_pie_chart_df.loc[race_pie_chart_df['race_accused'] == race_of_accused]\n",
    "    df_race['angle'] = df_race['share_in_total_complaints_by_race']*2*pi\n",
    "    df_race['color'] = Category20c[len(df_race)]    \n",
    "    plot_race = figure(plot_height=350, \n",
    "                       title= \"Race-wise proportion of victims when officer is {}\".format(race_of_accused), \n",
    "                       toolbar_location=None, \n",
    "                       tools=\"hover\", \n",
    "                       tooltips = \"@share_in_total_complaints_by_race:@race_victim\")\n",
    "    plot_race.legend.label_text_font_size = '10pt'\n",
    "    plot_race.wedge(x=0, y=1, radius=0.3, \n",
    "                    start_angle=cumsum('angle', include_zero=True), \n",
    "                    end_angle=cumsum('angle'), \n",
    "                    line_color=\"white\", \n",
    "                    fill_color='color', \n",
    "                    legend='race_victim', \n",
    "                    source=df_race)\n",
    "    plot_race.legend.location = \"top_left\"\n",
    "    plot_race.legend.click_policy=\"hide\"\n",
    "    plot_race.legend.label_text_font_size = \"6pt\"    \n",
    "  \n",
    "    return plot_race"
   ]
  },
  {
   "cell_type": "code",
   "execution_count": 101,
   "metadata": {},
   "outputs": [],
   "source": [
    "def gender_pie_chart(gender_of_accused, gender_pie_chart_df):\n",
    "    c1 = RdBu3[2] # red\n",
    "    c2 = RdBu3[0] # blue\n",
    "\n",
    "    df_gender = gender_pie_chart_df.loc[gender_pie_chart_df['gender_accused'] == gender_of_accused]\n",
    "    df_gender['angle'] = df_gender['share_in_total_complaints_by_gender']*2*pi\n",
    "    df_gender['color'] = [c1, c2]\n",
    "    plot_gender = figure(plot_height=350, \n",
    "                         title= \"Gender-wise proportion of victims when officer is {}\".format(gender_of_accused), \n",
    "                         toolbar_location=None, \n",
    "                         tools=\"hover\", \n",
    "                         tooltips = \"@share_in_total_complaints_by_gender:@gender_victim\")\n",
    "    plot_gender.wedge(x=0, y=1, radius=0.4, start_angle=cumsum('angle', include_zero=True), \n",
    "                      end_angle=cumsum('angle'), \n",
    "                      line_color=\"white\", \n",
    "                      fill_color='color', \n",
    "                      legend='gender_victim', \n",
    "                      source=df_gender)\n",
    "    \n",
    "    plot_gender.legend.location = \"top_left\"\n",
    "    plot_gender.legend.click_policy=\"hide\"\n",
    "    plot_gender.legend.label_text_font_size = \"6pt\"    \n",
    "    \n",
    "    return plot_gender"
   ]
  },
  {
   "cell_type": "code",
   "execution_count": 102,
   "metadata": {},
   "outputs": [],
   "source": [
    "def load_data(working_dir, path):\n",
    "    os.chdir(path_working_directory) # Source: https://bit.ly/2Og4HF0\n",
    "    df_dict = load_df(path_dict)\n",
    "    return df_dict\n",
    "    "
   ]
  },
  {
   "cell_type": "code",
   "execution_count": 103,
   "metadata": {},
   "outputs": [],
   "source": [
    "def merge_all_df(dic):\n",
    "    keys=list(dic.keys())\n",
    "    df_accused_and_codes = merge_accused_to_codes(dic[keys[1]], dic[keys[3]])\n",
    "    df_accused_codes_victims = merge_df(df_accused_and_codes,dic[keys[0]])\n",
    "    final_df = merge_df(df_accused_codes_victims, dic[keys[2]])\n",
    "    total_df = final_df.merge(dic[keys[4]], \n",
    "                       how='left', \n",
    "                       left_on = 'UID_accused', \n",
    "                       right_on = 'UID', \n",
    "                       indicator = True,\n",
    "                       suffixes = ('_investigator','_accused'))\n",
    "    total_df = total_df.rename(columns = {'age': 'age_victim',\n",
    "                             'gender_investigator': 'gender_victim',\n",
    "                             'race_investigator': 'race_victim',\n",
    "                             'UID': 'UID_profile'})\n",
    "    return total_df\n",
    "    \n",
    "    \n",
    "    \n",
    "    "
   ]
  },
  {
   "cell_type": "code",
   "execution_count": 111,
   "metadata": {},
   "outputs": [],
   "source": [
    "def race_gender_tab_graph(df):\n",
    "    \n",
    "    race_pie_chart_df = prepare_data_race_pie_chart_df(df)\n",
    "    gender_pie_chart_df = prepare_data_gender_pie_chart_df(df)\n",
    "    \n",
    "    genders = list(gender_pie_chart_df.reset_index()['gender_accused'].unique())\n",
    "    races = list(race_pie_chart_df.reset_index()['race_accused'].unique())\n",
    "    \n",
    "    race_plots = [race_pie_chart(race, race_pie_chart_df) for race in races]\n",
    "    race_gridplot = gridplot([[race_plots[0], race_plots[1]],\n",
    "                              [race_plots[2], race_plots[3]],\n",
    "                              [race_plots[4], None]])\n",
    "    race_panel = Panel(child = race_gridplot, title = 'Race-wise breakup of complaints')\n",
    "    \n",
    "    gender_plots = [gender_pie_chart(gender,gender_pie_chart_df) for gender in genders]\n",
    "    gender_gridplot = gridplot([[gender_plots[0], gender_plots[1], None]])\n",
    "    gender_panel = Panel(child = gender_gridplot, title = 'Gender-wise breakup of complaints')\n",
    "    \n",
    "    tabs = Tabs(tabs=[race_panel, gender_panel])\n",
    "    show(tabs)\n",
    "    "
   ]
  },
  {
   "cell_type": "code",
   "execution_count": 112,
   "metadata": {},
   "outputs": [],
   "source": [
    "def main():\n",
    "    df_dict = load_data(path_working_directory,path_dict )\n",
    "    total_df = merge_all_df(df_dict)\n",
    "    # Graph 1\n",
    "    complaint_categories = retrieve_top_complaint_types(total_df, n=10)\n",
    "    @interact(Complaint=complaint_categories)\n",
    "    def make_plot_for(Complaint=complaint_categories[0]):\n",
    "        plot = plot_histogram(total_df, Complaint)\n",
    "        show(plot)\n",
    "    #Graph 2\n",
    "    race_gender_tab_graph(total_df)     "
   ]
  },
  {
   "cell_type": "markdown",
   "metadata": {},
   "source": [
    "# Execution"
   ]
  },
  {
   "cell_type": "code",
   "execution_count": 113,
   "metadata": {},
   "outputs": [],
   "source": [
    "path_working_directory = r'C:\\Users\\adminuser\\Documents\\GitHub\\assignment-5-javier_prabhat_assign5'\n",
    "\n",
    "path_dict = {'victims':     'used_data/complaints-victims_2000-2016_2016-11.csv',\n",
    "            'accused':      'used_data/complaints-accused_2000-2016_2016-11.csv',\n",
    "            'investigators':'used_data/complaints-investigators_2000-2016_2016-11.csv',\n",
    "            'codes':        'used_data/discipline_penalty_codes.csv',\n",
    "            'profiles':     'used_data/final-profiles.csv'}"
   ]
  },
  {
   "cell_type": "code",
   "execution_count": 114,
   "metadata": {},
   "outputs": [
    {
     "name": "stderr",
     "output_type": "stream",
     "text": [
      "C:\\Users\\adminuser\\Anaconda3\\lib\\site-packages\\ipykernel_launcher.py:1: DtypeWarning: Columns (4,15) have mixed types. Specify dtype option on import or set low_memory=False.\n",
      "  \"\"\"Entry point for launching an IPython kernel.\n"
     ]
    },
    {
     "name": "stdout",
     "output_type": "stream",
     "text": [
      "118549 observations were matched, representing 94.4% of total observations\n",
      "117870 observations were matched, representing 93.86% of total observations\n",
      "28831 observations were matched, representing 20.73% of the new dataframe\n",
      "166829 observations were matched, representing 79.3% of the new dataframe\n"
     ]
    },
    {
     "data": {
      "application/vnd.jupyter.widget-view+json": {
       "model_id": "974c8eb3f5664bb2918432a9fd324caf",
       "version_major": 2,
       "version_minor": 0
      },
      "text/plain": [
       "interactive(children=(Dropdown(description='Complaint', options=('10U-INADEQUATE/FAILURE TO PROVIDE SERVICE', …"
      ]
     },
     "metadata": {},
     "output_type": "display_data"
    },
    {
     "name": "stderr",
     "output_type": "stream",
     "text": [
      "C:\\Users\\adminuser\\Anaconda3\\lib\\site-packages\\ipykernel_launcher.py:4: SettingWithCopyWarning: \n",
      "A value is trying to be set on a copy of a slice from a DataFrame.\n",
      "Try using .loc[row_indexer,col_indexer] = value instead\n",
      "\n",
      "See the caveats in the documentation: http://pandas.pydata.org/pandas-docs/stable/indexing.html#indexing-view-versus-copy\n",
      "  after removing the cwd from sys.path.\n",
      "C:\\Users\\adminuser\\Anaconda3\\lib\\site-packages\\ipykernel_launcher.py:5: SettingWithCopyWarning: \n",
      "A value is trying to be set on a copy of a slice from a DataFrame.\n",
      "Try using .loc[row_indexer,col_indexer] = value instead\n",
      "\n",
      "See the caveats in the documentation: http://pandas.pydata.org/pandas-docs/stable/indexing.html#indexing-view-versus-copy\n",
      "  \"\"\"\n",
      "C:\\Users\\adminuser\\Anaconda3\\lib\\site-packages\\ipykernel_launcher.py:6: SettingWithCopyWarning: \n",
      "A value is trying to be set on a copy of a slice from a DataFrame.\n",
      "Try using .loc[row_indexer,col_indexer] = value instead\n",
      "\n",
      "See the caveats in the documentation: http://pandas.pydata.org/pandas-docs/stable/indexing.html#indexing-view-versus-copy\n",
      "  \n",
      "C:\\Users\\adminuser\\Anaconda3\\lib\\site-packages\\ipykernel_launcher.py:7: SettingWithCopyWarning: \n",
      "A value is trying to be set on a copy of a slice from a DataFrame.\n",
      "Try using .loc[row_indexer,col_indexer] = value instead\n",
      "\n",
      "See the caveats in the documentation: http://pandas.pydata.org/pandas-docs/stable/indexing.html#indexing-view-versus-copy\n",
      "  import sys\n"
     ]
    },
    {
     "data": {
      "text/html": [
       "\n",
       "\n",
       "\n",
       "\n",
       "\n",
       "\n",
       "  <div class=\"bk-root\" id=\"6a1c8732-9e91-4294-a1ad-c4c14dd4e2be\"></div>\n"
      ]
     },
     "metadata": {},
     "output_type": "display_data"
    },
    {
     "data": {
      "application/javascript": [
       "(function(root) {\n",
       "  function embed_document(root) {\n",
       "    \n",
       "  var docs_json = {\"ff0c64ef-22be-4158-a122-2492c8404a14\":{\"roots\":{\"references\":[{\"attributes\":{\"callback\":null,\"tabs\":[{\"id\":\"2547\",\"type\":\"Panel\"},{\"id\":\"2648\",\"type\":\"Panel\"}]},\"id\":\"2649\",\"type\":\"Tabs\"},{\"attributes\":{\"field\":\"angle\",\"include_zero\":true},\"id\":\"2328\",\"type\":\"CumSum\"},{\"attributes\":{},\"id\":\"2512\",\"type\":\"Selection\"},{\"attributes\":{\"children\":[{\"id\":\"2515\",\"type\":\"Row\"},{\"id\":\"2532\",\"type\":\"Row\"},{\"id\":\"2542\",\"type\":\"Row\"}]},\"id\":\"2543\",\"type\":\"Column\"},{\"attributes\":{\"plot\":null,\"text\":\"Race-wise proportion of victims when officer is ASIAN/PACIFIC ISLANDER\"},\"id\":\"2304\",\"type\":\"Title\"},{\"attributes\":{\"label\":{\"field\":\"race_victim\"},\"renderers\":[{\"id\":\"2412\",\"type\":\"GlyphRenderer\"}]},\"id\":\"2420\",\"type\":\"LegendItem\"},{\"attributes\":{\"callback\":null},\"id\":\"2346\",\"type\":\"DataRange1d\"},{\"attributes\":{\"dimension\":1,\"plot\":{\"id\":\"2383\",\"subtype\":\"Figure\",\"type\":\"Plot\"},\"ticker\":{\"id\":\"2399\",\"type\":\"BasicTicker\"}},\"id\":\"2402\",\"type\":\"Grid\"},{\"attributes\":{\"plot\":null,\"text\":\"Gender-wise proportion of victims when officer is MALE\"},\"id\":\"2587\",\"type\":\"Title\"},{\"attributes\":{\"plot\":{\"id\":\"2344\",\"subtype\":\"Figure\",\"type\":\"Plot\"},\"ticker\":{\"id\":\"2355\",\"type\":\"BasicTicker\"}},\"id\":\"2358\",\"type\":\"Grid\"},{\"attributes\":{\"label\":{\"field\":\"race_victim\"},\"renderers\":[{\"id\":\"2334\",\"type\":\"GlyphRenderer\"}]},\"id\":\"2342\",\"type\":\"LegendItem\"},{\"attributes\":{\"end_angle\":{\"expr\":{\"id\":\"2407\",\"type\":\"CumSum\"},\"units\":\"rad\"},\"fill_alpha\":{\"value\":0.1},\"fill_color\":{\"value\":\"#1f77b4\"},\"line_alpha\":{\"value\":0.1},\"line_color\":{\"value\":\"#1f77b4\"},\"radius\":{\"units\":\"data\",\"value\":0.3},\"start_angle\":{\"expr\":{\"id\":\"2406\",\"type\":\"CumSum\"},\"units\":\"rad\"},\"x\":{\"value\":0},\"y\":{\"value\":1}},\"id\":\"2411\",\"type\":\"Wedge\"},{\"attributes\":{\"callback\":null,\"data\":{\"angle\":{\"__ndarray__\":\"q1b7g1Sjvj9lcy04UsEQQHU7XS76MPI/1et78+nO6j8=\",\"dtype\":\"float64\",\"shape\":[4]},\"color\":[\"#3182bd\",\"#6baed6\",\"#9ecae1\",\"#c6dbef\"],\"count\":[2,70,19,14],\"index\":[14,15,16,17],\"race_accused\":[\"NATIVE AMERICAN/ALASKAN NATIVE\",\"NATIVE AMERICAN/ALASKAN NATIVE\",\"NATIVE AMERICAN/ALASKAN NATIVE\",\"NATIVE AMERICAN/ALASKAN NATIVE\"],\"race_victim\":[\"ASIAN/PACIFIC ISLANDER\",\"BLACK\",\"HISPANIC\",\"WHITE\"],\"share_in_total_complaints_by_race\":{\"__ndarray__\":\"FDiBEziBkz9VVVVVVVXlP5dyKZdyKcc/ERERERERwT8=\",\"dtype\":\"float64\",\"shape\":[4]},\"total complaints\":[105,105,105,105]},\"selected\":{\"id\":\"2529\",\"type\":\"Selection\"},\"selection_policy\":{\"id\":\"2530\",\"type\":\"UnionRenderers\"}},\"id\":\"2447\",\"type\":\"ColumnDataSource\"},{\"attributes\":{\"below\":[{\"id\":\"2471\",\"type\":\"LinearAxis\"}],\"left\":[{\"id\":\"2476\",\"type\":\"LinearAxis\"}],\"plot_height\":350,\"renderers\":[{\"id\":\"2471\",\"type\":\"LinearAxis\"},{\"id\":\"2475\",\"type\":\"Grid\"},{\"id\":\"2476\",\"type\":\"LinearAxis\"},{\"id\":\"2480\",\"type\":\"Grid\"},{\"id\":\"2497\",\"type\":\"Legend\"},{\"id\":\"2490\",\"type\":\"GlyphRenderer\"}],\"title\":{\"id\":\"2460\",\"type\":\"Title\"},\"toolbar\":{\"id\":\"2482\",\"type\":\"Toolbar\"},\"toolbar_location\":null,\"x_range\":{\"id\":\"2463\",\"type\":\"DataRange1d\"},\"x_scale\":{\"id\":\"2467\",\"type\":\"LinearScale\"},\"y_range\":{\"id\":\"2465\",\"type\":\"DataRange1d\"},\"y_scale\":{\"id\":\"2469\",\"type\":\"LinearScale\"}},\"id\":\"2461\",\"subtype\":\"Figure\",\"type\":\"Plot\"},{\"attributes\":{},\"id\":\"2557\",\"type\":\"LinearScale\"},{\"attributes\":{\"formatter\":{\"id\":\"2583\",\"type\":\"BasicTickFormatter\"},\"plot\":{\"id\":\"2549\",\"subtype\":\"Figure\",\"type\":\"Plot\"},\"ticker\":{\"id\":\"2565\",\"type\":\"BasicTicker\"}},\"id\":\"2564\",\"type\":\"LinearAxis\"},{\"attributes\":{},\"id\":\"2337\",\"type\":\"BasicTickFormatter\"},{\"attributes\":{\"children\":[{\"id\":\"2643\",\"type\":\"Row\"}]},\"id\":\"2644\",\"type\":\"Column\"},{\"attributes\":{\"callback\":null},\"id\":\"2590\",\"type\":\"DataRange1d\"},{\"attributes\":{\"end_angle\":{\"expr\":{\"id\":\"2407\",\"type\":\"CumSum\"},\"units\":\"rad\"},\"fill_color\":{\"field\":\"color\"},\"line_color\":{\"value\":\"white\"},\"radius\":{\"units\":\"data\",\"value\":0.3},\"start_angle\":{\"expr\":{\"id\":\"2406\",\"type\":\"CumSum\"},\"units\":\"rad\"},\"x\":{\"value\":0},\"y\":{\"value\":1}},\"id\":\"2410\",\"type\":\"Wedge\"},{\"attributes\":{},\"id\":\"2339\",\"type\":\"BasicTickFormatter\"},{\"attributes\":{},\"id\":\"2565\",\"type\":\"BasicTicker\"},{\"attributes\":{\"callback\":null,\"data\":{\"angle\":{\"__ndarray__\":\"o037OWz//j+vWcVFIGIRQA==\",\"dtype\":\"float64\",\"shape\":[2]},\"color\":[\"#ef8a62\",\"#67a9cf\"],\"count\":[9627,21595],\"gender_accused\":[\"MALE\",\"MALE\"],\"gender_victim\":[\"FEMALE\",\"MALE\"],\"index\":[2,3],\"share_in_total_complaints_by_gender\":{\"__ndarray__\":\"zggF19i70z+Ze32UEyLmPw==\",\"dtype\":\"float64\",\"shape\":[2]},\"total complaints\":[31222,31222]},\"selected\":{\"id\":\"2639\",\"type\":\"Selection\"},\"selection_policy\":{\"id\":\"2640\",\"type\":\"UnionRenderers\"}},\"id\":\"2613\",\"type\":\"ColumnDataSource\"},{\"attributes\":{\"click_policy\":\"hide\",\"items\":[{\"id\":\"2420\",\"type\":\"LegendItem\"}],\"label_text_font_size\":{\"value\":\"6pt\"},\"location\":\"top_left\",\"plot\":{\"id\":\"2383\",\"subtype\":\"Figure\",\"type\":\"Plot\"}},\"id\":\"2419\",\"type\":\"Legend\"},{\"attributes\":{\"plot\":null,\"text\":\"Gender-wise proportion of victims when officer is FEMALE\"},\"id\":\"2548\",\"type\":\"Title\"},{\"attributes\":{\"below\":[{\"id\":\"2432\",\"type\":\"LinearAxis\"}],\"left\":[{\"id\":\"2437\",\"type\":\"LinearAxis\"}],\"plot_height\":350,\"renderers\":[{\"id\":\"2432\",\"type\":\"LinearAxis\"},{\"id\":\"2436\",\"type\":\"Grid\"},{\"id\":\"2437\",\"type\":\"LinearAxis\"},{\"id\":\"2441\",\"type\":\"Grid\"},{\"id\":\"2458\",\"type\":\"Legend\"},{\"id\":\"2451\",\"type\":\"GlyphRenderer\"}],\"title\":{\"id\":\"2421\",\"type\":\"Title\"},\"toolbar\":{\"id\":\"2443\",\"type\":\"Toolbar\"},\"toolbar_location\":null,\"x_range\":{\"id\":\"2424\",\"type\":\"DataRange1d\"},\"x_scale\":{\"id\":\"2428\",\"type\":\"LinearScale\"},\"y_range\":{\"id\":\"2426\",\"type\":\"DataRange1d\"},\"y_scale\":{\"id\":\"2430\",\"type\":\"LinearScale\"}},\"id\":\"2422\",\"subtype\":\"Figure\",\"type\":\"Plot\"},{\"attributes\":{},\"id\":\"2596\",\"type\":\"LinearScale\"},{\"attributes\":{},\"id\":\"2521\",\"type\":\"Selection\"},{\"attributes\":{\"field\":\"angle\"},\"id\":\"2612\",\"type\":\"CumSum\"},{\"attributes\":{},\"id\":\"2378\",\"type\":\"BasicTickFormatter\"},{\"attributes\":{\"children\":[{\"id\":\"2383\",\"subtype\":\"Figure\",\"type\":\"Plot\"},{\"id\":\"2422\",\"subtype\":\"Figure\",\"type\":\"Plot\"}]},\"id\":\"2532\",\"type\":\"Row\"},{\"attributes\":{\"callback\":null},\"id\":\"2426\",\"type\":\"DataRange1d\"},{\"attributes\":{\"end_angle\":{\"expr\":{\"id\":\"2329\",\"type\":\"CumSum\"},\"units\":\"rad\"},\"fill_alpha\":{\"value\":0.1},\"fill_color\":{\"value\":\"#1f77b4\"},\"line_alpha\":{\"value\":0.1},\"line_color\":{\"value\":\"#1f77b4\"},\"radius\":{\"units\":\"data\",\"value\":0.3},\"start_angle\":{\"expr\":{\"id\":\"2328\",\"type\":\"CumSum\"},\"units\":\"rad\"},\"x\":{\"value\":0},\"y\":{\"value\":1}},\"id\":\"2333\",\"type\":\"Wedge\"},{\"attributes\":{},\"id\":\"2355\",\"type\":\"BasicTicker\"},{\"attributes\":{},\"id\":\"2350\",\"type\":\"LinearScale\"},{\"attributes\":{},\"id\":\"2391\",\"type\":\"LinearScale\"},{\"attributes\":{\"end_angle\":{\"expr\":{\"id\":\"2573\",\"type\":\"CumSum\"},\"units\":\"rad\"},\"fill_color\":{\"field\":\"color\"},\"line_color\":{\"value\":\"white\"},\"radius\":{\"units\":\"data\",\"value\":0.4},\"start_angle\":{\"expr\":{\"id\":\"2572\",\"type\":\"CumSum\"},\"units\":\"rad\"},\"x\":{\"value\":0},\"y\":{\"value\":1}},\"id\":\"2576\",\"type\":\"Wedge\"},{\"attributes\":{\"field\":\"angle\"},\"id\":\"2485\",\"type\":\"CumSum\"},{\"attributes\":{\"plot\":null,\"text\":\"Race-wise proportion of victims when officer is HISPANIC\"},\"id\":\"2382\",\"type\":\"Title\"},{\"attributes\":{\"callback\":null},\"id\":\"2592\",\"type\":\"DataRange1d\"},{\"attributes\":{},\"id\":\"2594\",\"type\":\"LinearScale\"},{\"attributes\":{\"children\":[{\"id\":\"2549\",\"subtype\":\"Figure\",\"type\":\"Plot\"},{\"id\":\"2588\",\"subtype\":\"Figure\",\"type\":\"Plot\"},{\"id\":\"2642\",\"type\":\"Spacer\"}]},\"id\":\"2643\",\"type\":\"Row\"},{\"attributes\":{\"data_source\":{\"id\":\"2408\",\"type\":\"ColumnDataSource\"},\"glyph\":{\"id\":\"2410\",\"type\":\"Wedge\"},\"hover_glyph\":null,\"muted_glyph\":null,\"nonselection_glyph\":{\"id\":\"2411\",\"type\":\"Wedge\"},\"selection_glyph\":null,\"view\":{\"id\":\"2413\",\"type\":\"CDSView\"}},\"id\":\"2412\",\"type\":\"GlyphRenderer\"},{\"attributes\":{\"callback\":null,\"tooltips\":\"@share_in_total_complaints_by_gender:@gender_victim\"},\"id\":\"2608\",\"type\":\"HoverTool\"},{\"attributes\":{\"data_source\":{\"id\":\"2369\",\"type\":\"ColumnDataSource\"},\"glyph\":{\"id\":\"2371\",\"type\":\"Wedge\"},\"hover_glyph\":null,\"muted_glyph\":null,\"nonselection_glyph\":{\"id\":\"2372\",\"type\":\"Wedge\"},\"selection_glyph\":null,\"view\":{\"id\":\"2374\",\"type\":\"CDSView\"}},\"id\":\"2373\",\"type\":\"GlyphRenderer\"},{\"attributes\":{\"source\":{\"id\":\"2408\",\"type\":\"ColumnDataSource\"}},\"id\":\"2413\",\"type\":\"CDSView\"},{\"attributes\":{\"active_drag\":\"auto\",\"active_inspect\":\"auto\",\"active_multi\":null,\"active_scroll\":\"auto\",\"active_tap\":\"auto\",\"tools\":[{\"id\":\"2608\",\"type\":\"HoverTool\"}]},\"id\":\"2609\",\"type\":\"Toolbar\"},{\"attributes\":{\"callback\":null,\"data\":{\"angle\":{\"__ndarray__\":\"1Ljxa+FBBUBcoZY8FQINQA==\",\"dtype\":\"float64\",\"shape\":[2]},\"color\":[\"#ef8a62\",\"#67a9cf\"],\"count\":[1854,2530],\"gender_accused\":[\"FEMALE\",\"FEMALE\"],\"gender_victim\":[\"FEMALE\",\"MALE\"],\"index\":[0,1],\"share_in_total_complaints_by_gender\":{\"__ndarray__\":\"zDvgSNEQ2z8a4o9bl3fiPw==\",\"dtype\":\"float64\",\"shape\":[2]},\"total complaints\":[4384,4384]},\"selected\":{\"id\":\"2631\",\"type\":\"Selection\"},\"selection_policy\":{\"id\":\"2632\",\"type\":\"UnionRenderers\"}},\"id\":\"2574\",\"type\":\"ColumnDataSource\"},{\"attributes\":{},\"id\":\"2631\",\"type\":\"Selection\"},{\"attributes\":{\"formatter\":{\"id\":\"2454\",\"type\":\"BasicTickFormatter\"},\"plot\":{\"id\":\"2422\",\"subtype\":\"Figure\",\"type\":\"Plot\"},\"ticker\":{\"id\":\"2433\",\"type\":\"BasicTicker\"}},\"id\":\"2432\",\"type\":\"LinearAxis\"},{\"attributes\":{\"end_angle\":{\"expr\":{\"id\":\"2485\",\"type\":\"CumSum\"},\"units\":\"rad\"},\"fill_color\":{\"field\":\"color\"},\"line_color\":{\"value\":\"white\"},\"radius\":{\"units\":\"data\",\"value\":0.3},\"start_angle\":{\"expr\":{\"id\":\"2484\",\"type\":\"CumSum\"},\"units\":\"rad\"},\"x\":{\"value\":0},\"y\":{\"value\":1}},\"id\":\"2488\",\"type\":\"Wedge\"},{\"attributes\":{\"source\":{\"id\":\"2369\",\"type\":\"ColumnDataSource\"}},\"id\":\"2374\",\"type\":\"CDSView\"},{\"attributes\":{\"dimension\":1,\"plot\":{\"id\":\"2588\",\"subtype\":\"Figure\",\"type\":\"Plot\"},\"ticker\":{\"id\":\"2604\",\"type\":\"BasicTicker\"}},\"id\":\"2607\",\"type\":\"Grid\"},{\"attributes\":{},\"id\":\"2560\",\"type\":\"BasicTicker\"},{\"attributes\":{\"field\":\"angle\",\"include_zero\":true},\"id\":\"2445\",\"type\":\"CumSum\"},{\"attributes\":{\"dimension\":1,\"plot\":{\"id\":\"2549\",\"subtype\":\"Figure\",\"type\":\"Plot\"},\"ticker\":{\"id\":\"2565\",\"type\":\"BasicTicker\"}},\"id\":\"2568\",\"type\":\"Grid\"},{\"attributes\":{\"callback\":null,\"data\":{\"angle\":{\"__ndarray__\":\"9l2pCMnNqj8j+kGmbwUSQLwUXXunQe8/wLPaj+42bD9ZEpp1otnnPw==\",\"dtype\":\"float64\",\"shape\":[5]},\"color\":[\"#3182bd\",\"#6baed6\",\"#9ecae1\",\"#c6dbef\",\"#e6550d\"],\"count\":[152,13081,2836,10,2164],\"index\":[18,19,20,21,22],\"race_accused\":[\"WHITE\",\"WHITE\",\"WHITE\",\"WHITE\",\"WHITE\"],\"race_victim\":[\"ASIAN/PACIFIC ISLANDER\",\"BLACK\",\"HISPANIC\",\"NATIVE AMERICAN/ALASKAN NATIVE\",\"WHITE\"],\"share_in_total_complaints_by_race\":{\"__ndarray__\":\"1xffIlkQgT/u4bRiAvLmPxFdCOQC5sM/1Z9W4UL2QT84pil4712+Pw==\",\"dtype\":\"float64\",\"shape\":[5]},\"total complaints\":[18243,18243,18243,18243,18243]},\"selected\":{\"id\":\"2538\",\"type\":\"Selection\"},\"selection_policy\":{\"id\":\"2539\",\"type\":\"UnionRenderers\"}},\"id\":\"2486\",\"type\":\"ColumnDataSource\"},{\"attributes\":{\"click_policy\":\"hide\",\"items\":[{\"id\":\"2381\",\"type\":\"LegendItem\"}],\"label_text_font_size\":{\"value\":\"6pt\"},\"location\":\"top_left\",\"plot\":{\"id\":\"2344\",\"subtype\":\"Figure\",\"type\":\"Plot\"}},\"id\":\"2380\",\"type\":\"Legend\"},{\"attributes\":{\"formatter\":{\"id\":\"2581\",\"type\":\"BasicTickFormatter\"},\"plot\":{\"id\":\"2549\",\"subtype\":\"Figure\",\"type\":\"Plot\"},\"ticker\":{\"id\":\"2560\",\"type\":\"BasicTicker\"}},\"id\":\"2559\",\"type\":\"LinearAxis\"},{\"attributes\":{},\"id\":\"2604\",\"type\":\"BasicTicker\"},{\"attributes\":{},\"id\":\"2313\",\"type\":\"LinearScale\"},{\"attributes\":{\"formatter\":{\"id\":\"2622\",\"type\":\"BasicTickFormatter\"},\"plot\":{\"id\":\"2588\",\"subtype\":\"Figure\",\"type\":\"Plot\"},\"ticker\":{\"id\":\"2604\",\"type\":\"BasicTicker\"}},\"id\":\"2603\",\"type\":\"LinearAxis\"},{\"attributes\":{},\"id\":\"2415\",\"type\":\"BasicTickFormatter\"},{\"attributes\":{},\"id\":\"2417\",\"type\":\"BasicTickFormatter\"},{\"attributes\":{\"callback\":null,\"tooltips\":\"@share_in_total_complaints_by_race:@race_victim\"},\"id\":\"2442\",\"type\":\"HoverTool\"},{\"attributes\":{\"plot\":{\"id\":\"2588\",\"subtype\":\"Figure\",\"type\":\"Plot\"},\"ticker\":{\"id\":\"2599\",\"type\":\"BasicTicker\"}},\"id\":\"2602\",\"type\":\"Grid\"},{\"attributes\":{\"source\":{\"id\":\"2330\",\"type\":\"ColumnDataSource\"}},\"id\":\"2335\",\"type\":\"CDSView\"},{\"attributes\":{\"active_drag\":\"auto\",\"active_inspect\":\"auto\",\"active_multi\":null,\"active_scroll\":\"auto\",\"active_tap\":\"auto\",\"tools\":[{\"id\":\"2442\",\"type\":\"HoverTool\"}]},\"id\":\"2443\",\"type\":\"Toolbar\"},{\"attributes\":{\"callback\":null},\"id\":\"2348\",\"type\":\"DataRange1d\"},{\"attributes\":{},\"id\":\"2316\",\"type\":\"BasicTicker\"},{\"attributes\":{},\"id\":\"2321\",\"type\":\"BasicTicker\"},{\"attributes\":{},\"id\":\"2433\",\"type\":\"BasicTicker\"},{\"attributes\":{},\"id\":\"2376\",\"type\":\"BasicTickFormatter\"},{\"attributes\":{\"children\":[{\"id\":\"2305\",\"subtype\":\"Figure\",\"type\":\"Plot\"},{\"id\":\"2344\",\"subtype\":\"Figure\",\"type\":\"Plot\"}]},\"id\":\"2515\",\"type\":\"Row\"},{\"attributes\":{},\"id\":\"2555\",\"type\":\"LinearScale\"},{\"attributes\":{},\"id\":\"2504\",\"type\":\"Selection\"},{\"attributes\":{\"callback\":null,\"data\":{\"angle\":{\"__ndarray__\":\"57q6WgK+tj8v3iMH/NQRQKUNmXd3+u0/RBISpsKV6T8=\",\"dtype\":\"float64\",\"shape\":[4]},\"color\":[\"#3182bd\",\"#6baed6\",\"#9ecae1\",\"#c6dbef\"],\"count\":[11,552,116,99],\"index\":[0,1,2,3],\"race_accused\":[\"ASIAN/PACIFIC ISLANDER\",\"ASIAN/PACIFIC ISLANDER\",\"ASIAN/PACIFIC ISLANDER\",\"ASIAN/PACIFIC ISLANDER\"],\"race_victim\":[\"ASIAN/PACIFIC ISLANDER\",\"BLACK\",\"HISPANIC\",\"WHITE\"],\"share_in_total_complaints_by_race\":{\"__ndarray__\":\"j2549c/0jD8lKKeaUbTmP1Ma+Ju3FcM/Mb4T+rRJwD8=\",\"dtype\":\"float64\",\"shape\":[4]},\"total complaints\":[778,778,778,778]},\"selected\":{\"id\":\"2504\",\"type\":\"Selection\"},\"selection_policy\":{\"id\":\"2505\",\"type\":\"UnionRenderers\"}},\"id\":\"2330\",\"type\":\"ColumnDataSource\"},{\"attributes\":{\"dimension\":1,\"plot\":{\"id\":\"2422\",\"subtype\":\"Figure\",\"type\":\"Plot\"},\"ticker\":{\"id\":\"2438\",\"type\":\"BasicTicker\"}},\"id\":\"2441\",\"type\":\"Grid\"},{\"attributes\":{},\"id\":\"2505\",\"type\":\"UnionRenderers\"},{\"attributes\":{},\"id\":\"2311\",\"type\":\"LinearScale\"},{\"attributes\":{},\"id\":\"2352\",\"type\":\"LinearScale\"},{\"attributes\":{\"callback\":null},\"id\":\"2553\",\"type\":\"DataRange1d\"},{\"attributes\":{\"formatter\":{\"id\":\"2620\",\"type\":\"BasicTickFormatter\"},\"plot\":{\"id\":\"2588\",\"subtype\":\"Figure\",\"type\":\"Plot\"},\"ticker\":{\"id\":\"2599\",\"type\":\"BasicTicker\"}},\"id\":\"2598\",\"type\":\"LinearAxis\"},{\"attributes\":{\"field\":\"angle\"},\"id\":\"2329\",\"type\":\"CumSum\"},{\"attributes\":{\"field\":\"angle\",\"include_zero\":true},\"id\":\"2367\",\"type\":\"CumSum\"},{\"attributes\":{\"formatter\":{\"id\":\"2337\",\"type\":\"BasicTickFormatter\"},\"plot\":{\"id\":\"2305\",\"subtype\":\"Figure\",\"type\":\"Plot\"},\"ticker\":{\"id\":\"2316\",\"type\":\"BasicTicker\"}},\"id\":\"2315\",\"type\":\"LinearAxis\"},{\"attributes\":{\"callback\":null},\"id\":\"2551\",\"type\":\"DataRange1d\"},{\"attributes\":{\"height\":350,\"width\":600},\"id\":\"2642\",\"type\":\"Spacer\"},{\"attributes\":{\"click_policy\":\"hide\",\"items\":[{\"id\":\"2342\",\"type\":\"LegendItem\"}],\"label_text_font_size\":{\"value\":\"6pt\"},\"location\":\"top_left\",\"plot\":{\"id\":\"2305\",\"subtype\":\"Figure\",\"type\":\"Plot\"}},\"id\":\"2341\",\"type\":\"Legend\"},{\"attributes\":{},\"id\":\"2438\",\"type\":\"BasicTicker\"},{\"attributes\":{\"label\":{\"field\":\"gender_victim\"},\"renderers\":[{\"id\":\"2578\",\"type\":\"GlyphRenderer\"}]},\"id\":\"2586\",\"type\":\"LegendItem\"},{\"attributes\":{\"end_angle\":{\"expr\":{\"id\":\"2446\",\"type\":\"CumSum\"},\"units\":\"rad\"},\"fill_color\":{\"field\":\"color\"},\"line_color\":{\"value\":\"white\"},\"radius\":{\"units\":\"data\",\"value\":0.3},\"start_angle\":{\"expr\":{\"id\":\"2445\",\"type\":\"CumSum\"},\"units\":\"rad\"},\"x\":{\"value\":0},\"y\":{\"value\":1}},\"id\":\"2449\",\"type\":\"Wedge\"},{\"attributes\":{\"field\":\"angle\",\"include_zero\":true},\"id\":\"2484\",\"type\":\"CumSum\"},{\"attributes\":{\"label\":{\"field\":\"race_victim\"},\"renderers\":[{\"id\":\"2490\",\"type\":\"GlyphRenderer\"}]},\"id\":\"2498\",\"type\":\"LegendItem\"},{\"attributes\":{\"plot\":null,\"text\":\"Race-wise proportion of victims when officer is WHITE\"},\"id\":\"2460\",\"type\":\"Title\"},{\"attributes\":{\"plot\":{\"id\":\"2549\",\"subtype\":\"Figure\",\"type\":\"Plot\"},\"ticker\":{\"id\":\"2560\",\"type\":\"BasicTicker\"}},\"id\":\"2563\",\"type\":\"Grid\"},{\"attributes\":{\"source\":{\"id\":\"2486\",\"type\":\"ColumnDataSource\"}},\"id\":\"2491\",\"type\":\"CDSView\"},{\"attributes\":{},\"id\":\"2530\",\"type\":\"UnionRenderers\"},{\"attributes\":{\"end_angle\":{\"expr\":{\"id\":\"2329\",\"type\":\"CumSum\"},\"units\":\"rad\"},\"fill_color\":{\"field\":\"color\"},\"line_color\":{\"value\":\"white\"},\"radius\":{\"units\":\"data\",\"value\":0.3},\"start_angle\":{\"expr\":{\"id\":\"2328\",\"type\":\"CumSum\"},\"units\":\"rad\"},\"x\":{\"value\":0},\"y\":{\"value\":1}},\"id\":\"2332\",\"type\":\"Wedge\"},{\"attributes\":{\"click_policy\":\"hide\",\"items\":[{\"id\":\"2586\",\"type\":\"LegendItem\"}],\"label_text_font_size\":{\"value\":\"6pt\"},\"location\":\"top_left\",\"plot\":{\"id\":\"2549\",\"subtype\":\"Figure\",\"type\":\"Plot\"}},\"id\":\"2585\",\"type\":\"Legend\"},{\"attributes\":{},\"id\":\"2529\",\"type\":\"Selection\"},{\"attributes\":{\"end_angle\":{\"expr\":{\"id\":\"2368\",\"type\":\"CumSum\"},\"units\":\"rad\"},\"fill_alpha\":{\"value\":0.1},\"fill_color\":{\"value\":\"#1f77b4\"},\"line_alpha\":{\"value\":0.1},\"line_color\":{\"value\":\"#1f77b4\"},\"radius\":{\"units\":\"data\",\"value\":0.3},\"start_angle\":{\"expr\":{\"id\":\"2367\",\"type\":\"CumSum\"},\"units\":\"rad\"},\"x\":{\"value\":0},\"y\":{\"value\":1}},\"id\":\"2372\",\"type\":\"Wedge\"},{\"attributes\":{\"plot\":{\"id\":\"2422\",\"subtype\":\"Figure\",\"type\":\"Plot\"},\"ticker\":{\"id\":\"2433\",\"type\":\"BasicTicker\"}},\"id\":\"2436\",\"type\":\"Grid\"},{\"attributes\":{\"plot\":null,\"text\":\"Race-wise proportion of victims when officer is NATIVE AMERICAN/ALASKAN NATIVE\"},\"id\":\"2421\",\"type\":\"Title\"},{\"attributes\":{\"callback\":null},\"id\":\"2309\",\"type\":\"DataRange1d\"},{\"attributes\":{\"data_source\":{\"id\":\"2486\",\"type\":\"ColumnDataSource\"},\"glyph\":{\"id\":\"2488\",\"type\":\"Wedge\"},\"hover_glyph\":null,\"muted_glyph\":null,\"nonselection_glyph\":{\"id\":\"2489\",\"type\":\"Wedge\"},\"selection_glyph\":null,\"view\":{\"id\":\"2491\",\"type\":\"CDSView\"}},\"id\":\"2490\",\"type\":\"GlyphRenderer\"},{\"attributes\":{\"end_angle\":{\"expr\":{\"id\":\"2368\",\"type\":\"CumSum\"},\"units\":\"rad\"},\"fill_color\":{\"field\":\"color\"},\"line_color\":{\"value\":\"white\"},\"radius\":{\"units\":\"data\",\"value\":0.3},\"start_angle\":{\"expr\":{\"id\":\"2367\",\"type\":\"CumSum\"},\"units\":\"rad\"},\"x\":{\"value\":0},\"y\":{\"value\":1}},\"id\":\"2371\",\"type\":\"Wedge\"},{\"attributes\":{},\"id\":\"2583\",\"type\":\"BasicTickFormatter\"},{\"attributes\":{\"child\":{\"id\":\"2546\",\"type\":\"Column\"},\"title\":\"Race-wise breakup of complaints\"},\"id\":\"2547\",\"type\":\"Panel\"},{\"attributes\":{\"callback\":null,\"tooltips\":\"@share_in_total_complaints_by_race:@race_victim\"},\"id\":\"2325\",\"type\":\"HoverTool\"},{\"attributes\":{\"callback\":null,\"tooltips\":\"@share_in_total_complaints_by_race:@race_victim\"},\"id\":\"2364\",\"type\":\"HoverTool\"},{\"attributes\":{\"formatter\":{\"id\":\"2456\",\"type\":\"BasicTickFormatter\"},\"plot\":{\"id\":\"2422\",\"subtype\":\"Figure\",\"type\":\"Plot\"},\"ticker\":{\"id\":\"2438\",\"type\":\"BasicTicker\"}},\"id\":\"2437\",\"type\":\"LinearAxis\"},{\"attributes\":{\"end_angle\":{\"expr\":{\"id\":\"2485\",\"type\":\"CumSum\"},\"units\":\"rad\"},\"fill_alpha\":{\"value\":0.1},\"fill_color\":{\"value\":\"#1f77b4\"},\"line_alpha\":{\"value\":0.1},\"line_color\":{\"value\":\"#1f77b4\"},\"radius\":{\"units\":\"data\",\"value\":0.3},\"start_angle\":{\"expr\":{\"id\":\"2484\",\"type\":\"CumSum\"},\"units\":\"rad\"},\"x\":{\"value\":0},\"y\":{\"value\":1}},\"id\":\"2489\",\"type\":\"Wedge\"},{\"attributes\":{},\"id\":\"2581\",\"type\":\"BasicTickFormatter\"},{\"attributes\":{\"field\":\"angle\",\"include_zero\":true},\"id\":\"2611\",\"type\":\"CumSum\"},{\"attributes\":{\"callback\":null},\"id\":\"2385\",\"type\":\"DataRange1d\"},{\"attributes\":{\"click_policy\":\"hide\",\"items\":[{\"id\":\"2498\",\"type\":\"LegendItem\"}],\"label_text_font_size\":{\"value\":\"6pt\"},\"location\":\"top_left\",\"plot\":{\"id\":\"2461\",\"subtype\":\"Figure\",\"type\":\"Plot\"}},\"id\":\"2497\",\"type\":\"Legend\"},{\"attributes\":{\"plot\":{\"id\":\"2305\",\"subtype\":\"Figure\",\"type\":\"Plot\"},\"ticker\":{\"id\":\"2316\",\"type\":\"BasicTicker\"}},\"id\":\"2319\",\"type\":\"Grid\"},{\"attributes\":{},\"id\":\"2360\",\"type\":\"BasicTicker\"},{\"attributes\":{\"end_angle\":{\"expr\":{\"id\":\"2573\",\"type\":\"CumSum\"},\"units\":\"rad\"},\"fill_alpha\":{\"value\":0.1},\"fill_color\":{\"value\":\"#1f77b4\"},\"line_alpha\":{\"value\":0.1},\"line_color\":{\"value\":\"#1f77b4\"},\"radius\":{\"units\":\"data\",\"value\":0.4},\"start_angle\":{\"expr\":{\"id\":\"2572\",\"type\":\"CumSum\"},\"units\":\"rad\"},\"x\":{\"value\":0},\"y\":{\"value\":1}},\"id\":\"2577\",\"type\":\"Wedge\"},{\"attributes\":{\"field\":\"angle\"},\"id\":\"2446\",\"type\":\"CumSum\"},{\"attributes\":{\"formatter\":{\"id\":\"2339\",\"type\":\"BasicTickFormatter\"},\"plot\":{\"id\":\"2305\",\"subtype\":\"Figure\",\"type\":\"Plot\"},\"ticker\":{\"id\":\"2321\",\"type\":\"BasicTicker\"}},\"id\":\"2320\",\"type\":\"LinearAxis\"},{\"attributes\":{\"formatter\":{\"id\":\"2378\",\"type\":\"BasicTickFormatter\"},\"plot\":{\"id\":\"2344\",\"subtype\":\"Figure\",\"type\":\"Plot\"},\"ticker\":{\"id\":\"2360\",\"type\":\"BasicTicker\"}},\"id\":\"2359\",\"type\":\"LinearAxis\"},{\"attributes\":{\"data_source\":{\"id\":\"2330\",\"type\":\"ColumnDataSource\"},\"glyph\":{\"id\":\"2332\",\"type\":\"Wedge\"},\"hover_glyph\":null,\"muted_glyph\":null,\"nonselection_glyph\":{\"id\":\"2333\",\"type\":\"Wedge\"},\"selection_glyph\":null,\"view\":{\"id\":\"2335\",\"type\":\"CDSView\"}},\"id\":\"2334\",\"type\":\"GlyphRenderer\"},{\"attributes\":{},\"id\":\"2513\",\"type\":\"UnionRenderers\"},{\"attributes\":{\"dimension\":1,\"plot\":{\"id\":\"2305\",\"subtype\":\"Figure\",\"type\":\"Plot\"},\"ticker\":{\"id\":\"2321\",\"type\":\"BasicTicker\"}},\"id\":\"2324\",\"type\":\"Grid\"},{\"attributes\":{\"data_source\":{\"id\":\"2574\",\"type\":\"ColumnDataSource\"},\"glyph\":{\"id\":\"2576\",\"type\":\"Wedge\"},\"hover_glyph\":null,\"muted_glyph\":null,\"nonselection_glyph\":{\"id\":\"2577\",\"type\":\"Wedge\"},\"selection_glyph\":null,\"view\":{\"id\":\"2579\",\"type\":\"CDSView\"}},\"id\":\"2578\",\"type\":\"GlyphRenderer\"},{\"attributes\":{\"dimension\":1,\"plot\":{\"id\":\"2344\",\"subtype\":\"Figure\",\"type\":\"Plot\"},\"ticker\":{\"id\":\"2360\",\"type\":\"BasicTicker\"}},\"id\":\"2363\",\"type\":\"Grid\"},{\"attributes\":{\"below\":[{\"id\":\"2354\",\"type\":\"LinearAxis\"}],\"left\":[{\"id\":\"2359\",\"type\":\"LinearAxis\"}],\"plot_height\":350,\"renderers\":[{\"id\":\"2354\",\"type\":\"LinearAxis\"},{\"id\":\"2358\",\"type\":\"Grid\"},{\"id\":\"2359\",\"type\":\"LinearAxis\"},{\"id\":\"2363\",\"type\":\"Grid\"},{\"id\":\"2380\",\"type\":\"Legend\"},{\"id\":\"2373\",\"type\":\"GlyphRenderer\"}],\"title\":{\"id\":\"2343\",\"type\":\"Title\"},\"toolbar\":{\"id\":\"2365\",\"type\":\"Toolbar\"},\"toolbar_location\":null,\"x_range\":{\"id\":\"2346\",\"type\":\"DataRange1d\"},\"x_scale\":{\"id\":\"2350\",\"type\":\"LinearScale\"},\"y_range\":{\"id\":\"2348\",\"type\":\"DataRange1d\"},\"y_scale\":{\"id\":\"2352\",\"type\":\"LinearScale\"}},\"id\":\"2344\",\"subtype\":\"Figure\",\"type\":\"Plot\"},{\"attributes\":{\"active_drag\":\"auto\",\"active_inspect\":\"auto\",\"active_multi\":null,\"active_scroll\":\"auto\",\"active_tap\":\"auto\",\"tools\":[{\"id\":\"2325\",\"type\":\"HoverTool\"}]},\"id\":\"2326\",\"type\":\"Toolbar\"},{\"attributes\":{\"source\":{\"id\":\"2574\",\"type\":\"ColumnDataSource\"}},\"id\":\"2579\",\"type\":\"CDSView\"},{\"attributes\":{},\"id\":\"2428\",\"type\":\"LinearScale\"},{\"attributes\":{\"field\":\"angle\"},\"id\":\"2368\",\"type\":\"CumSum\"},{\"attributes\":{\"callback\":null},\"id\":\"2387\",\"type\":\"DataRange1d\"},{\"attributes\":{},\"id\":\"2430\",\"type\":\"LinearScale\"},{\"attributes\":{\"below\":[{\"id\":\"2598\",\"type\":\"LinearAxis\"}],\"left\":[{\"id\":\"2603\",\"type\":\"LinearAxis\"}],\"plot_height\":350,\"renderers\":[{\"id\":\"2598\",\"type\":\"LinearAxis\"},{\"id\":\"2602\",\"type\":\"Grid\"},{\"id\":\"2603\",\"type\":\"LinearAxis\"},{\"id\":\"2607\",\"type\":\"Grid\"},{\"id\":\"2624\",\"type\":\"Legend\"},{\"id\":\"2617\",\"type\":\"GlyphRenderer\"}],\"title\":{\"id\":\"2587\",\"type\":\"Title\"},\"toolbar\":{\"id\":\"2609\",\"type\":\"Toolbar\"},\"toolbar_location\":null,\"x_range\":{\"id\":\"2590\",\"type\":\"DataRange1d\"},\"x_scale\":{\"id\":\"2594\",\"type\":\"LinearScale\"},\"y_range\":{\"id\":\"2592\",\"type\":\"DataRange1d\"},\"y_scale\":{\"id\":\"2596\",\"type\":\"LinearScale\"}},\"id\":\"2588\",\"subtype\":\"Figure\",\"type\":\"Plot\"},{\"attributes\":{},\"id\":\"2389\",\"type\":\"LinearScale\"},{\"attributes\":{\"field\":\"angle\"},\"id\":\"2573\",\"type\":\"CumSum\"},{\"attributes\":{\"callback\":null,\"data\":{\"angle\":{\"__ndarray__\":\"bVyagpgCoz/Su6WVwxIWQGwR+PT1rtU/UNVSNurPdj8WbMI784jYPw==\",\"dtype\":\"float64\",\"shape\":[5]},\"color\":[\"#3182bd\",\"#6baed6\",\"#9ecae1\",\"#c6dbef\",\"#e6550d\"],\"count\":[40,5945,365,6,413],\"index\":[4,5,6,7,8],\"race_accused\":[\"BLACK\",\"BLACK\",\"BLACK\",\"BLACK\",\"BLACK\"],\"race_victim\":[\"ASIAN/PACIFIC ISLANDER\",\"BLACK\",\"HISPANIC\",\"NATIVE AMERICAN/ALASKAN NATIVE\",\"WHITE\"],\"share_in_total_complaints_by_race\":{\"__ndarray__\":\"rl0Dl1c0eD+GqBi0xhrsP9rWP+izm6s/0dbQTpwLTT+08RlyJz2vPw==\",\"dtype\":\"float64\",\"shape\":[5]},\"total complaints\":[6769,6769,6769,6769,6769]},\"selected\":{\"id\":\"2512\",\"type\":\"Selection\"},\"selection_policy\":{\"id\":\"2513\",\"type\":\"UnionRenderers\"}},\"id\":\"2369\",\"type\":\"ColumnDataSource\"},{\"attributes\":{},\"id\":\"2522\",\"type\":\"UnionRenderers\"},{\"attributes\":{\"below\":[{\"id\":\"2393\",\"type\":\"LinearAxis\"}],\"left\":[{\"id\":\"2398\",\"type\":\"LinearAxis\"}],\"plot_height\":350,\"renderers\":[{\"id\":\"2393\",\"type\":\"LinearAxis\"},{\"id\":\"2397\",\"type\":\"Grid\"},{\"id\":\"2398\",\"type\":\"LinearAxis\"},{\"id\":\"2402\",\"type\":\"Grid\"},{\"id\":\"2419\",\"type\":\"Legend\"},{\"id\":\"2412\",\"type\":\"GlyphRenderer\"}],\"title\":{\"id\":\"2382\",\"type\":\"Title\"},\"toolbar\":{\"id\":\"2404\",\"type\":\"Toolbar\"},\"toolbar_location\":null,\"x_range\":{\"id\":\"2385\",\"type\":\"DataRange1d\"},\"x_scale\":{\"id\":\"2389\",\"type\":\"LinearScale\"},\"y_range\":{\"id\":\"2387\",\"type\":\"DataRange1d\"},\"y_scale\":{\"id\":\"2391\",\"type\":\"LinearScale\"}},\"id\":\"2383\",\"subtype\":\"Figure\",\"type\":\"Plot\"},{\"attributes\":{\"formatter\":{\"id\":\"2376\",\"type\":\"BasicTickFormatter\"},\"plot\":{\"id\":\"2344\",\"subtype\":\"Figure\",\"type\":\"Plot\"},\"ticker\":{\"id\":\"2355\",\"type\":\"BasicTicker\"}},\"id\":\"2354\",\"type\":\"LinearAxis\"},{\"attributes\":{},\"id\":\"2495\",\"type\":\"BasicTickFormatter\"},{\"attributes\":{},\"id\":\"2599\",\"type\":\"BasicTicker\"},{\"attributes\":{\"active_drag\":\"auto\",\"active_inspect\":\"auto\",\"active_multi\":null,\"active_scroll\":\"auto\",\"active_tap\":\"auto\",\"tools\":[{\"id\":\"2569\",\"type\":\"HoverTool\"}]},\"id\":\"2570\",\"type\":\"Toolbar\"},{\"attributes\":{\"active_drag\":\"auto\",\"active_inspect\":\"auto\",\"active_multi\":null,\"active_scroll\":\"auto\",\"active_tap\":\"auto\",\"tools\":[{\"id\":\"2364\",\"type\":\"HoverTool\"}]},\"id\":\"2365\",\"type\":\"Toolbar\"},{\"attributes\":{\"callback\":null,\"data\":{\"angle\":{\"__ndarray__\":\"5LDubetaqT+LwQmlg/UQQMOn4CFJevY/DeZB1Qx4XD/fgMh4QMviPw==\",\"dtype\":\"float64\",\"shape\":[5]},\"color\":[\"#3182bd\",\"#6baed6\",\"#9ecae1\",\"#c6dbef\",\"#e6550d\"],\"count\":[57,4880,1617,2,676],\"index\":[9,10,11,12,13],\"race_accused\":[\"HISPANIC\",\"HISPANIC\",\"HISPANIC\",\"HISPANIC\",\"HISPANIC\"],\"race_victim\":[\"ASIAN/PACIFIC ISLANDER\",\"BLACK\",\"HISPANIC\",\"NATIVE AMERICAN/ALASKAN NATIVE\",\"WHITE\"],\"share_in_total_complaints_by_race\":{\"__ndarray__\":\"90MCbz8kgD+afNmgyZflP1jpqYWVnsw/ePshgbcfMj8F3n5I4O23Pw==\",\"dtype\":\"float64\",\"shape\":[5]},\"total complaints\":[7232,7232,7232,7232,7232]},\"selected\":{\"id\":\"2521\",\"type\":\"Selection\"},\"selection_policy\":{\"id\":\"2522\",\"type\":\"UnionRenderers\"}},\"id\":\"2408\",\"type\":\"ColumnDataSource\"},{\"attributes\":{\"callback\":null},\"id\":\"2307\",\"type\":\"DataRange1d\"},{\"attributes\":{\"callback\":null,\"tooltips\":\"@share_in_total_complaints_by_gender:@gender_victim\"},\"id\":\"2569\",\"type\":\"HoverTool\"},{\"attributes\":{},\"id\":\"2493\",\"type\":\"BasicTickFormatter\"},{\"attributes\":{\"plot\":{\"id\":\"2461\",\"subtype\":\"Figure\",\"type\":\"Plot\"},\"ticker\":{\"id\":\"2472\",\"type\":\"BasicTicker\"}},\"id\":\"2475\",\"type\":\"Grid\"},{\"attributes\":{\"below\":[{\"id\":\"2559\",\"type\":\"LinearAxis\"}],\"left\":[{\"id\":\"2564\",\"type\":\"LinearAxis\"}],\"plot_height\":350,\"renderers\":[{\"id\":\"2559\",\"type\":\"LinearAxis\"},{\"id\":\"2563\",\"type\":\"Grid\"},{\"id\":\"2564\",\"type\":\"LinearAxis\"},{\"id\":\"2568\",\"type\":\"Grid\"},{\"id\":\"2585\",\"type\":\"Legend\"},{\"id\":\"2578\",\"type\":\"GlyphRenderer\"}],\"title\":{\"id\":\"2548\",\"type\":\"Title\"},\"toolbar\":{\"id\":\"2570\",\"type\":\"Toolbar\"},\"toolbar_location\":null,\"x_range\":{\"id\":\"2551\",\"type\":\"DataRange1d\"},\"x_scale\":{\"id\":\"2555\",\"type\":\"LinearScale\"},\"y_range\":{\"id\":\"2553\",\"type\":\"DataRange1d\"},\"y_scale\":{\"id\":\"2557\",\"type\":\"LinearScale\"}},\"id\":\"2549\",\"subtype\":\"Figure\",\"type\":\"Plot\"},{\"attributes\":{\"callback\":null},\"id\":\"2465\",\"type\":\"DataRange1d\"},{\"attributes\":{\"active_drag\":\"auto\",\"active_inspect\":\"auto\",\"active_multi\":null,\"active_scroll\":\"auto\",\"active_tap\":\"auto\",\"tools\":[{\"id\":\"2481\",\"type\":\"HoverTool\"}]},\"id\":\"2482\",\"type\":\"Toolbar\"},{\"attributes\":{},\"id\":\"2456\",\"type\":\"BasicTickFormatter\"},{\"attributes\":{\"callback\":null,\"tooltips\":\"@share_in_total_complaints_by_race:@race_victim\"},\"id\":\"2481\",\"type\":\"HoverTool\"},{\"attributes\":{},\"id\":\"2472\",\"type\":\"BasicTicker\"},{\"attributes\":{\"plot\":{\"id\":\"2383\",\"subtype\":\"Figure\",\"type\":\"Plot\"},\"ticker\":{\"id\":\"2394\",\"type\":\"BasicTicker\"}},\"id\":\"2397\",\"type\":\"Grid\"},{\"attributes\":{\"field\":\"angle\",\"include_zero\":true},\"id\":\"2572\",\"type\":\"CumSum\"},{\"attributes\":{\"callback\":null},\"id\":\"2424\",\"type\":\"DataRange1d\"},{\"attributes\":{\"formatter\":{\"id\":\"2493\",\"type\":\"BasicTickFormatter\"},\"plot\":{\"id\":\"2461\",\"subtype\":\"Figure\",\"type\":\"Plot\"},\"ticker\":{\"id\":\"2472\",\"type\":\"BasicTicker\"}},\"id\":\"2471\",\"type\":\"LinearAxis\"},{\"attributes\":{},\"id\":\"2469\",\"type\":\"LinearScale\"},{\"attributes\":{\"click_policy\":\"hide\",\"items\":[{\"id\":\"2459\",\"type\":\"LegendItem\"}],\"label_text_font_size\":{\"value\":\"6pt\"},\"location\":\"top_left\",\"plot\":{\"id\":\"2422\",\"subtype\":\"Figure\",\"type\":\"Plot\"}},\"id\":\"2458\",\"type\":\"Legend\"},{\"attributes\":{\"child\":{\"id\":\"2647\",\"type\":\"Column\"},\"title\":\"Gender-wise breakup of complaints\"},\"id\":\"2648\",\"type\":\"Panel\"},{\"attributes\":{\"children\":[{\"id\":\"2646\",\"type\":\"ToolbarBox\"},{\"id\":\"2644\",\"type\":\"Column\"}]},\"id\":\"2647\",\"type\":\"Column\"},{\"attributes\":{\"toolbar\":{\"id\":\"2645\",\"type\":\"ProxyToolbar\"},\"toolbar_location\":\"above\"},\"id\":\"2646\",\"type\":\"ToolbarBox\"},{\"attributes\":{\"tools\":[{\"id\":\"2569\",\"type\":\"HoverTool\"},{\"id\":\"2608\",\"type\":\"HoverTool\"}]},\"id\":\"2645\",\"type\":\"ProxyToolbar\"},{\"attributes\":{},\"id\":\"2467\",\"type\":\"LinearScale\"},{\"attributes\":{\"formatter\":{\"id\":\"2415\",\"type\":\"BasicTickFormatter\"},\"plot\":{\"id\":\"2383\",\"subtype\":\"Figure\",\"type\":\"Plot\"},\"ticker\":{\"id\":\"2394\",\"type\":\"BasicTicker\"}},\"id\":\"2393\",\"type\":\"LinearAxis\"},{\"attributes\":{\"active_drag\":\"auto\",\"active_inspect\":\"auto\",\"active_multi\":null,\"active_scroll\":\"auto\",\"active_tap\":\"auto\",\"tools\":[{\"id\":\"2403\",\"type\":\"HoverTool\"}]},\"id\":\"2404\",\"type\":\"Toolbar\"},{\"attributes\":{\"plot\":null,\"text\":\"Race-wise proportion of victims when officer is BLACK\"},\"id\":\"2343\",\"type\":\"Title\"},{\"attributes\":{},\"id\":\"2640\",\"type\":\"UnionRenderers\"},{\"attributes\":{\"formatter\":{\"id\":\"2495\",\"type\":\"BasicTickFormatter\"},\"plot\":{\"id\":\"2461\",\"subtype\":\"Figure\",\"type\":\"Plot\"},\"ticker\":{\"id\":\"2477\",\"type\":\"BasicTicker\"}},\"id\":\"2476\",\"type\":\"LinearAxis\"},{\"attributes\":{\"formatter\":{\"id\":\"2417\",\"type\":\"BasicTickFormatter\"},\"plot\":{\"id\":\"2383\",\"subtype\":\"Figure\",\"type\":\"Plot\"},\"ticker\":{\"id\":\"2399\",\"type\":\"BasicTicker\"}},\"id\":\"2398\",\"type\":\"LinearAxis\"},{\"attributes\":{\"below\":[{\"id\":\"2315\",\"type\":\"LinearAxis\"}],\"left\":[{\"id\":\"2320\",\"type\":\"LinearAxis\"}],\"plot_height\":350,\"renderers\":[{\"id\":\"2315\",\"type\":\"LinearAxis\"},{\"id\":\"2319\",\"type\":\"Grid\"},{\"id\":\"2320\",\"type\":\"LinearAxis\"},{\"id\":\"2324\",\"type\":\"Grid\"},{\"id\":\"2341\",\"type\":\"Legend\"},{\"id\":\"2334\",\"type\":\"GlyphRenderer\"}],\"title\":{\"id\":\"2304\",\"type\":\"Title\"},\"toolbar\":{\"id\":\"2326\",\"type\":\"Toolbar\"},\"toolbar_location\":null,\"x_range\":{\"id\":\"2307\",\"type\":\"DataRange1d\"},\"x_scale\":{\"id\":\"2311\",\"type\":\"LinearScale\"},\"y_range\":{\"id\":\"2309\",\"type\":\"DataRange1d\"},\"y_scale\":{\"id\":\"2313\",\"type\":\"LinearScale\"}},\"id\":\"2305\",\"subtype\":\"Figure\",\"type\":\"Plot\"},{\"attributes\":{},\"id\":\"2477\",\"type\":\"BasicTicker\"},{\"attributes\":{},\"id\":\"2639\",\"type\":\"Selection\"},{\"attributes\":{\"field\":\"angle\"},\"id\":\"2407\",\"type\":\"CumSum\"},{\"attributes\":{},\"id\":\"2632\",\"type\":\"UnionRenderers\"},{\"attributes\":{},\"id\":\"2394\",\"type\":\"BasicTicker\"},{\"attributes\":{\"label\":{\"field\":\"gender_victim\"},\"renderers\":[{\"id\":\"2617\",\"type\":\"GlyphRenderer\"}]},\"id\":\"2625\",\"type\":\"LegendItem\"},{\"attributes\":{\"dimension\":1,\"plot\":{\"id\":\"2461\",\"subtype\":\"Figure\",\"type\":\"Plot\"},\"ticker\":{\"id\":\"2477\",\"type\":\"BasicTicker\"}},\"id\":\"2480\",\"type\":\"Grid\"},{\"attributes\":{\"label\":{\"field\":\"race_victim\"},\"renderers\":[{\"id\":\"2373\",\"type\":\"GlyphRenderer\"}]},\"id\":\"2381\",\"type\":\"LegendItem\"},{\"attributes\":{\"click_policy\":\"hide\",\"items\":[{\"id\":\"2625\",\"type\":\"LegendItem\"}],\"label_text_font_size\":{\"value\":\"6pt\"},\"location\":\"top_left\",\"plot\":{\"id\":\"2588\",\"subtype\":\"Figure\",\"type\":\"Plot\"}},\"id\":\"2624\",\"type\":\"Legend\"},{\"attributes\":{},\"id\":\"2622\",\"type\":\"BasicTickFormatter\"},{\"attributes\":{\"callback\":null},\"id\":\"2463\",\"type\":\"DataRange1d\"},{\"attributes\":{},\"id\":\"2399\",\"type\":\"BasicTicker\"},{\"attributes\":{\"label\":{\"field\":\"race_victim\"},\"renderers\":[{\"id\":\"2451\",\"type\":\"GlyphRenderer\"}]},\"id\":\"2459\",\"type\":\"LegendItem\"},{\"attributes\":{},\"id\":\"2620\",\"type\":\"BasicTickFormatter\"},{\"attributes\":{\"end_angle\":{\"expr\":{\"id\":\"2612\",\"type\":\"CumSum\"},\"units\":\"rad\"},\"fill_color\":{\"field\":\"color\"},\"line_color\":{\"value\":\"white\"},\"radius\":{\"units\":\"data\",\"value\":0.4},\"start_angle\":{\"expr\":{\"id\":\"2611\",\"type\":\"CumSum\"},\"units\":\"rad\"},\"x\":{\"value\":0},\"y\":{\"value\":1}},\"id\":\"2615\",\"type\":\"Wedge\"},{\"attributes\":{\"data_source\":{\"id\":\"2447\",\"type\":\"ColumnDataSource\"},\"glyph\":{\"id\":\"2449\",\"type\":\"Wedge\"},\"hover_glyph\":null,\"muted_glyph\":null,\"nonselection_glyph\":{\"id\":\"2450\",\"type\":\"Wedge\"},\"selection_glyph\":null,\"view\":{\"id\":\"2452\",\"type\":\"CDSView\"}},\"id\":\"2451\",\"type\":\"GlyphRenderer\"},{\"attributes\":{\"callback\":null,\"tooltips\":\"@share_in_total_complaints_by_race:@race_victim\"},\"id\":\"2403\",\"type\":\"HoverTool\"},{\"attributes\":{\"source\":{\"id\":\"2447\",\"type\":\"ColumnDataSource\"}},\"id\":\"2452\",\"type\":\"CDSView\"},{\"attributes\":{\"end_angle\":{\"expr\":{\"id\":\"2612\",\"type\":\"CumSum\"},\"units\":\"rad\"},\"fill_alpha\":{\"value\":0.1},\"fill_color\":{\"value\":\"#1f77b4\"},\"line_alpha\":{\"value\":0.1},\"line_color\":{\"value\":\"#1f77b4\"},\"radius\":{\"units\":\"data\",\"value\":0.4},\"start_angle\":{\"expr\":{\"id\":\"2611\",\"type\":\"CumSum\"},\"units\":\"rad\"},\"x\":{\"value\":0},\"y\":{\"value\":1}},\"id\":\"2616\",\"type\":\"Wedge\"},{\"attributes\":{\"field\":\"angle\",\"include_zero\":true},\"id\":\"2406\",\"type\":\"CumSum\"},{\"attributes\":{\"data_source\":{\"id\":\"2613\",\"type\":\"ColumnDataSource\"},\"glyph\":{\"id\":\"2615\",\"type\":\"Wedge\"},\"hover_glyph\":null,\"muted_glyph\":null,\"nonselection_glyph\":{\"id\":\"2616\",\"type\":\"Wedge\"},\"selection_glyph\":null,\"view\":{\"id\":\"2618\",\"type\":\"CDSView\"}},\"id\":\"2617\",\"type\":\"GlyphRenderer\"},{\"attributes\":{},\"id\":\"2454\",\"type\":\"BasicTickFormatter\"},{\"attributes\":{},\"id\":\"2538\",\"type\":\"Selection\"},{\"attributes\":{\"height\":350,\"width\":600},\"id\":\"2541\",\"type\":\"Spacer\"},{\"attributes\":{\"children\":[{\"id\":\"2545\",\"type\":\"ToolbarBox\"},{\"id\":\"2543\",\"type\":\"Column\"}]},\"id\":\"2546\",\"type\":\"Column\"},{\"attributes\":{\"toolbar\":{\"id\":\"2544\",\"type\":\"ProxyToolbar\"},\"toolbar_location\":\"above\"},\"id\":\"2545\",\"type\":\"ToolbarBox\"},{\"attributes\":{\"children\":[{\"id\":\"2461\",\"subtype\":\"Figure\",\"type\":\"Plot\"},{\"id\":\"2541\",\"type\":\"Spacer\"}]},\"id\":\"2542\",\"type\":\"Row\"},{\"attributes\":{\"source\":{\"id\":\"2613\",\"type\":\"ColumnDataSource\"}},\"id\":\"2618\",\"type\":\"CDSView\"},{\"attributes\":{},\"id\":\"2539\",\"type\":\"UnionRenderers\"},{\"attributes\":{\"end_angle\":{\"expr\":{\"id\":\"2446\",\"type\":\"CumSum\"},\"units\":\"rad\"},\"fill_alpha\":{\"value\":0.1},\"fill_color\":{\"value\":\"#1f77b4\"},\"line_alpha\":{\"value\":0.1},\"line_color\":{\"value\":\"#1f77b4\"},\"radius\":{\"units\":\"data\",\"value\":0.3},\"start_angle\":{\"expr\":{\"id\":\"2445\",\"type\":\"CumSum\"},\"units\":\"rad\"},\"x\":{\"value\":0},\"y\":{\"value\":1}},\"id\":\"2450\",\"type\":\"Wedge\"},{\"attributes\":{\"tools\":[{\"id\":\"2325\",\"type\":\"HoverTool\"},{\"id\":\"2364\",\"type\":\"HoverTool\"},{\"id\":\"2403\",\"type\":\"HoverTool\"},{\"id\":\"2442\",\"type\":\"HoverTool\"},{\"id\":\"2481\",\"type\":\"HoverTool\"}]},\"id\":\"2544\",\"type\":\"ProxyToolbar\"}],\"root_ids\":[\"2649\"]},\"title\":\"Bokeh Application\",\"version\":\"1.0.2\"}};\n",
       "  var render_items = [{\"docid\":\"ff0c64ef-22be-4158-a122-2492c8404a14\",\"roots\":{\"2649\":\"6a1c8732-9e91-4294-a1ad-c4c14dd4e2be\"}}];\n",
       "  root.Bokeh.embed.embed_items_notebook(docs_json, render_items);\n",
       "\n",
       "  }\n",
       "  if (root.Bokeh !== undefined) {\n",
       "    embed_document(root);\n",
       "  } else {\n",
       "    var attempts = 0;\n",
       "    var timer = setInterval(function(root) {\n",
       "      if (root.Bokeh !== undefined) {\n",
       "        embed_document(root);\n",
       "        clearInterval(timer);\n",
       "      }\n",
       "      attempts++;\n",
       "      if (attempts > 100) {\n",
       "        console.log(\"Bokeh: ERROR: Unable to run BokehJS code because BokehJS library is missing\");\n",
       "        clearInterval(timer);\n",
       "      }\n",
       "    }, 10, root)\n",
       "  }\n",
       "})(window);"
      ],
      "application/vnd.bokehjs_exec.v0+json": ""
     },
     "metadata": {
      "application/vnd.bokehjs_exec.v0+json": {
       "id": "2649"
      }
     },
     "output_type": "display_data"
    }
   ],
   "source": [
    "main()"
   ]
  },
  {
   "cell_type": "markdown",
   "metadata": {},
   "source": [
    "# Graph 1: histogram of most frequent complaint types by victim's age (also shown here for better display)"
   ]
  },
  {
   "cell_type": "code",
   "execution_count": 115,
   "metadata": {},
   "outputs": [
    {
     "name": "stderr",
     "output_type": "stream",
     "text": [
      "C:\\Users\\adminuser\\Anaconda3\\lib\\site-packages\\IPython\\core\\interactiveshell.py:3267: DtypeWarning: Columns (4,15) have mixed types. Specify dtype option on import or set low_memory=False.\n",
      "  exec(code_obj, self.user_global_ns, self.user_ns)\n"
     ]
    },
    {
     "name": "stdout",
     "output_type": "stream",
     "text": [
      "118549 observations were matched, representing 94.4% of total observations\n",
      "117870 observations were matched, representing 93.86% of total observations\n",
      "28831 observations were matched, representing 20.73% of the new dataframe\n",
      "166829 observations were matched, representing 79.3% of the new dataframe\n"
     ]
    }
   ],
   "source": [
    "df_dict = load_data(path_working_directory,path_dict )\n",
    "total_df = merge_all_df(df_dict)"
   ]
  },
  {
   "cell_type": "code",
   "execution_count": 116,
   "metadata": {},
   "outputs": [],
   "source": [
    "complaint_categories = retrieve_top_complaint_types(total_df, n=10)\n",
    "#total_df WAS ONLY EVER DEFINED WITHIN FUNCTIONS SO IT DOES NOT EXIST TO PASS INTO AN ARGUMENT. \n",
    "# I HAD TO MANUALLY DETERMINE HOW TO GET YOUR total_df. ALWAYS MAKE SURE YOUR CODE RUNS BEFORE SUBMITTING."
   ]
  },
  {
   "cell_type": "code",
   "execution_count": 117,
   "metadata": {},
   "outputs": [
    {
     "data": {
      "application/vnd.jupyter.widget-view+json": {
       "model_id": "fd879272efa14a25ac19d9a8e078ec9a",
       "version_major": 2,
       "version_minor": 0
      },
      "text/plain": [
       "interactive(children=(Dropdown(description='Complaint', options=('10U-INADEQUATE/FAILURE TO PROVIDE SERVICE', …"
      ]
     },
     "metadata": {},
     "output_type": "display_data"
    }
   ],
   "source": [
    "@interact(Complaint=complaint_categories)\n",
    "def make_plot_for(Complaint=complaint_categories[0]):\n",
    "    plot = plot_histogram(total_df, Complaint)\n",
    "    show(plot)"
   ]
  },
  {
   "cell_type": "markdown",
   "metadata": {},
   "source": [
    "# Graph 2: Racial distribution of complaints by race and gender of accused officer (also shown here for better display)"
   ]
  },
  {
   "cell_type": "code",
   "execution_count": 118,
   "metadata": {},
   "outputs": [
    {
     "name": "stderr",
     "output_type": "stream",
     "text": [
      "C:\\Users\\adminuser\\Anaconda3\\lib\\site-packages\\ipykernel_launcher.py:4: SettingWithCopyWarning: \n",
      "A value is trying to be set on a copy of a slice from a DataFrame.\n",
      "Try using .loc[row_indexer,col_indexer] = value instead\n",
      "\n",
      "See the caveats in the documentation: http://pandas.pydata.org/pandas-docs/stable/indexing.html#indexing-view-versus-copy\n",
      "  after removing the cwd from sys.path.\n",
      "C:\\Users\\adminuser\\Anaconda3\\lib\\site-packages\\ipykernel_launcher.py:5: SettingWithCopyWarning: \n",
      "A value is trying to be set on a copy of a slice from a DataFrame.\n",
      "Try using .loc[row_indexer,col_indexer] = value instead\n",
      "\n",
      "See the caveats in the documentation: http://pandas.pydata.org/pandas-docs/stable/indexing.html#indexing-view-versus-copy\n",
      "  \"\"\"\n",
      "C:\\Users\\adminuser\\Anaconda3\\lib\\site-packages\\ipykernel_launcher.py:6: SettingWithCopyWarning: \n",
      "A value is trying to be set on a copy of a slice from a DataFrame.\n",
      "Try using .loc[row_indexer,col_indexer] = value instead\n",
      "\n",
      "See the caveats in the documentation: http://pandas.pydata.org/pandas-docs/stable/indexing.html#indexing-view-versus-copy\n",
      "  \n",
      "C:\\Users\\adminuser\\Anaconda3\\lib\\site-packages\\ipykernel_launcher.py:7: SettingWithCopyWarning: \n",
      "A value is trying to be set on a copy of a slice from a DataFrame.\n",
      "Try using .loc[row_indexer,col_indexer] = value instead\n",
      "\n",
      "See the caveats in the documentation: http://pandas.pydata.org/pandas-docs/stable/indexing.html#indexing-view-versus-copy\n",
      "  import sys\n"
     ]
    },
    {
     "data": {
      "text/html": [
       "\n",
       "\n",
       "\n",
       "\n",
       "\n",
       "\n",
       "  <div class=\"bk-root\" id=\"bdbdaf61-bb92-4bc7-bffc-f02cb2e8c937\"></div>\n"
      ]
     },
     "metadata": {},
     "output_type": "display_data"
    },
    {
     "data": {
      "application/javascript": [
       "(function(root) {\n",
       "  function embed_document(root) {\n",
       "    \n",
       "  var docs_json = {\"8f2aa15a-431f-42ef-b678-837f92bdd885\":{\"roots\":{\"references\":[{\"attributes\":{\"callback\":null,\"tabs\":[{\"id\":\"3508\",\"type\":\"Panel\"},{\"id\":\"3609\",\"type\":\"Panel\"}]},\"id\":\"3610\",\"type\":\"Tabs\"},{\"attributes\":{\"children\":[{\"id\":\"3476\",\"type\":\"Row\"},{\"id\":\"3493\",\"type\":\"Row\"},{\"id\":\"3503\",\"type\":\"Row\"}]},\"id\":\"3504\",\"type\":\"Column\"},{\"attributes\":{\"plot\":{\"id\":\"3510\",\"subtype\":\"Figure\",\"type\":\"Plot\"},\"ticker\":{\"id\":\"3521\",\"type\":\"BasicTicker\"}},\"id\":\"3524\",\"type\":\"Grid\"},{\"attributes\":{\"field\":\"angle\",\"include_zero\":true},\"id\":\"3328\",\"type\":\"CumSum\"},{\"attributes\":{\"field\":\"angle\"},\"id\":\"3446\",\"type\":\"CumSum\"},{\"attributes\":{\"formatter\":{\"id\":\"3544\",\"type\":\"BasicTickFormatter\"},\"plot\":{\"id\":\"3510\",\"subtype\":\"Figure\",\"type\":\"Plot\"},\"ticker\":{\"id\":\"3526\",\"type\":\"BasicTicker\"}},\"id\":\"3525\",\"type\":\"LinearAxis\"},{\"attributes\":{\"callback\":null,\"data\":{\"angle\":{\"__ndarray__\":\"9l2pCMnNqj8j+kGmbwUSQLwUXXunQe8/wLPaj+42bD9ZEpp1otnnPw==\",\"dtype\":\"float64\",\"shape\":[5]},\"color\":[\"#3182bd\",\"#6baed6\",\"#9ecae1\",\"#c6dbef\",\"#e6550d\"],\"count\":[152,13081,2836,10,2164],\"index\":[18,19,20,21,22],\"race_accused\":[\"WHITE\",\"WHITE\",\"WHITE\",\"WHITE\",\"WHITE\"],\"race_victim\":[\"ASIAN/PACIFIC ISLANDER\",\"BLACK\",\"HISPANIC\",\"NATIVE AMERICAN/ALASKAN NATIVE\",\"WHITE\"],\"share_in_total_complaints_by_race\":{\"__ndarray__\":\"1xffIlkQgT/u4bRiAvLmPxFdCOQC5sM/1Z9W4UL2QT84pil4712+Pw==\",\"dtype\":\"float64\",\"shape\":[5]},\"total complaints\":[18243,18243,18243,18243,18243]},\"selected\":{\"id\":\"3499\",\"type\":\"Selection\"},\"selection_policy\":{\"id\":\"3500\",\"type\":\"UnionRenderers\"}},\"id\":\"3447\",\"type\":\"ColumnDataSource\"},{\"attributes\":{},\"id\":\"3516\",\"type\":\"LinearScale\"},{\"attributes\":{\"source\":{\"id\":\"3574\",\"type\":\"ColumnDataSource\"}},\"id\":\"3579\",\"type\":\"CDSView\"},{\"attributes\":{},\"id\":\"3526\",\"type\":\"BasicTicker\"},{\"attributes\":{\"dimension\":1,\"plot\":{\"id\":\"3305\",\"subtype\":\"Figure\",\"type\":\"Plot\"},\"ticker\":{\"id\":\"3321\",\"type\":\"BasicTicker\"}},\"id\":\"3324\",\"type\":\"Grid\"},{\"attributes\":{\"active_drag\":\"auto\",\"active_inspect\":\"auto\",\"active_multi\":null,\"active_scroll\":\"auto\",\"active_tap\":\"auto\",\"tools\":[{\"id\":\"3325\",\"type\":\"HoverTool\"}]},\"id\":\"3326\",\"type\":\"Toolbar\"},{\"attributes\":{},\"id\":\"3482\",\"type\":\"Selection\"},{\"attributes\":{\"children\":[{\"id\":\"3510\",\"subtype\":\"Figure\",\"type\":\"Plot\"},{\"id\":\"3549\",\"subtype\":\"Figure\",\"type\":\"Plot\"},{\"id\":\"3603\",\"type\":\"Spacer\"}]},\"id\":\"3604\",\"type\":\"Row\"},{\"attributes\":{\"dimension\":1,\"plot\":{\"id\":\"3510\",\"subtype\":\"Figure\",\"type\":\"Plot\"},\"ticker\":{\"id\":\"3526\",\"type\":\"BasicTicker\"}},\"id\":\"3529\",\"type\":\"Grid\"},{\"attributes\":{\"active_drag\":\"auto\",\"active_inspect\":\"auto\",\"active_multi\":null,\"active_scroll\":\"auto\",\"active_tap\":\"auto\",\"tools\":[{\"id\":\"3530\",\"type\":\"HoverTool\"}]},\"id\":\"3531\",\"type\":\"Toolbar\"},{\"attributes\":{},\"id\":\"3300\",\"type\":\"BasicTickFormatter\"},{\"attributes\":{},\"id\":\"3339\",\"type\":\"BasicTickFormatter\"},{\"attributes\":{\"callback\":null,\"tooltips\":\"@share_in_total_complaints_by_gender:@gender_victim\"},\"id\":\"3530\",\"type\":\"HoverTool\"},{\"attributes\":{},\"id\":\"3311\",\"type\":\"LinearScale\"},{\"attributes\":{\"source\":{\"id\":\"3447\",\"type\":\"ColumnDataSource\"}},\"id\":\"3452\",\"type\":\"CDSView\"},{\"attributes\":{\"callback\":null},\"id\":\"3512\",\"type\":\"DataRange1d\"},{\"attributes\":{\"formatter\":{\"id\":\"3337\",\"type\":\"BasicTickFormatter\"},\"plot\":{\"id\":\"3305\",\"subtype\":\"Figure\",\"type\":\"Plot\"},\"ticker\":{\"id\":\"3316\",\"type\":\"BasicTicker\"}},\"id\":\"3315\",\"type\":\"LinearAxis\"},{\"attributes\":{\"data_source\":{\"id\":\"3574\",\"type\":\"ColumnDataSource\"},\"glyph\":{\"id\":\"3576\",\"type\":\"Wedge\"},\"hover_glyph\":null,\"muted_glyph\":null,\"nonselection_glyph\":{\"id\":\"3577\",\"type\":\"Wedge\"},\"selection_glyph\":null,\"view\":{\"id\":\"3579\",\"type\":\"CDSView\"}},\"id\":\"3578\",\"type\":\"GlyphRenderer\"},{\"attributes\":{\"plot\":null,\"text\":\"Race-wise proportion of victims when officer is ASIAN/PACIFIC ISLANDER\"},\"id\":\"3265\",\"type\":\"Title\"},{\"attributes\":{\"callback\":null},\"id\":\"3514\",\"type\":\"DataRange1d\"},{\"attributes\":{\"field\":\"angle\"},\"id\":\"3368\",\"type\":\"CumSum\"},{\"attributes\":{},\"id\":\"3272\",\"type\":\"LinearScale\"},{\"attributes\":{\"click_policy\":\"hide\",\"items\":[{\"id\":\"3381\",\"type\":\"LegendItem\"}],\"label_text_font_size\":{\"value\":\"6pt\"},\"location\":\"top_left\",\"plot\":{\"id\":\"3344\",\"subtype\":\"Figure\",\"type\":\"Plot\"}},\"id\":\"3380\",\"type\":\"Legend\"},{\"attributes\":{\"end_angle\":{\"expr\":{\"id\":\"3573\",\"type\":\"CumSum\"},\"units\":\"rad\"},\"fill_alpha\":{\"value\":0.1},\"fill_color\":{\"value\":\"#1f77b4\"},\"line_alpha\":{\"value\":0.1},\"line_color\":{\"value\":\"#1f77b4\"},\"radius\":{\"units\":\"data\",\"value\":0.4},\"start_angle\":{\"expr\":{\"id\":\"3572\",\"type\":\"CumSum\"},\"units\":\"rad\"},\"x\":{\"value\":0},\"y\":{\"value\":1}},\"id\":\"3577\",\"type\":\"Wedge\"},{\"attributes\":{\"callback\":null},\"id\":\"3270\",\"type\":\"DataRange1d\"},{\"attributes\":{\"plot\":null,\"text\":\"Race-wise proportion of victims when officer is BLACK\"},\"id\":\"3304\",\"type\":\"Title\"},{\"attributes\":{\"formatter\":{\"id\":\"3378\",\"type\":\"BasicTickFormatter\"},\"plot\":{\"id\":\"3344\",\"subtype\":\"Figure\",\"type\":\"Plot\"},\"ticker\":{\"id\":\"3360\",\"type\":\"BasicTicker\"}},\"id\":\"3359\",\"type\":\"LinearAxis\"},{\"attributes\":{},\"id\":\"3298\",\"type\":\"BasicTickFormatter\"},{\"attributes\":{\"end_angle\":{\"expr\":{\"id\":\"3573\",\"type\":\"CumSum\"},\"units\":\"rad\"},\"fill_color\":{\"field\":\"color\"},\"line_color\":{\"value\":\"white\"},\"radius\":{\"units\":\"data\",\"value\":0.4},\"start_angle\":{\"expr\":{\"id\":\"3572\",\"type\":\"CumSum\"},\"units\":\"rad\"},\"x\":{\"value\":0},\"y\":{\"value\":1}},\"id\":\"3576\",\"type\":\"Wedge\"},{\"attributes\":{\"field\":\"angle\"},\"id\":\"3329\",\"type\":\"CumSum\"},{\"attributes\":{\"field\":\"angle\"},\"id\":\"3534\",\"type\":\"CumSum\"},{\"attributes\":{},\"id\":\"3350\",\"type\":\"LinearScale\"},{\"attributes\":{\"data_source\":{\"id\":\"3447\",\"type\":\"ColumnDataSource\"},\"glyph\":{\"id\":\"3449\",\"type\":\"Wedge\"},\"hover_glyph\":null,\"muted_glyph\":null,\"nonselection_glyph\":{\"id\":\"3450\",\"type\":\"Wedge\"},\"selection_glyph\":null,\"view\":{\"id\":\"3452\",\"type\":\"CDSView\"}},\"id\":\"3451\",\"type\":\"GlyphRenderer\"},{\"attributes\":{},\"id\":\"3465\",\"type\":\"Selection\"},{\"attributes\":{},\"id\":\"3389\",\"type\":\"LinearScale\"},{\"attributes\":{\"callback\":null,\"data\":{\"angle\":{\"__ndarray__\":\"1Ljxa+FBBUBcoZY8FQINQA==\",\"dtype\":\"float64\",\"shape\":[2]},\"color\":[\"#ef8a62\",\"#67a9cf\"],\"count\":[1854,2530],\"gender_accused\":[\"FEMALE\",\"FEMALE\"],\"gender_victim\":[\"FEMALE\",\"MALE\"],\"index\":[0,1],\"share_in_total_complaints_by_gender\":{\"__ndarray__\":\"zDvgSNEQ2z8a4o9bl3fiPw==\",\"dtype\":\"float64\",\"shape\":[2]},\"total complaints\":[4384,4384]},\"selected\":{\"id\":\"3592\",\"type\":\"Selection\"},\"selection_policy\":{\"id\":\"3593\",\"type\":\"UnionRenderers\"}},\"id\":\"3535\",\"type\":\"ColumnDataSource\"},{\"attributes\":{},\"id\":\"3581\",\"type\":\"BasicTickFormatter\"},{\"attributes\":{\"source\":{\"id\":\"3330\",\"type\":\"ColumnDataSource\"}},\"id\":\"3335\",\"type\":\"CDSView\"},{\"attributes\":{\"end_angle\":{\"expr\":{\"id\":\"3446\",\"type\":\"CumSum\"},\"units\":\"rad\"},\"fill_alpha\":{\"value\":0.1},\"fill_color\":{\"value\":\"#1f77b4\"},\"line_alpha\":{\"value\":0.1},\"line_color\":{\"value\":\"#1f77b4\"},\"radius\":{\"units\":\"data\",\"value\":0.3},\"start_angle\":{\"expr\":{\"id\":\"3445\",\"type\":\"CumSum\"},\"units\":\"rad\"},\"x\":{\"value\":0},\"y\":{\"value\":1}},\"id\":\"3450\",\"type\":\"Wedge\"},{\"attributes\":{\"field\":\"angle\",\"include_zero\":true},\"id\":\"3445\",\"type\":\"CumSum\"},{\"attributes\":{\"active_drag\":\"auto\",\"active_inspect\":\"auto\",\"active_multi\":null,\"active_scroll\":\"auto\",\"active_tap\":\"auto\",\"tools\":[{\"id\":\"3364\",\"type\":\"HoverTool\"}]},\"id\":\"3365\",\"type\":\"Toolbar\"},{\"attributes\":{},\"id\":\"3583\",\"type\":\"BasicTickFormatter\"},{\"attributes\":{\"active_drag\":\"auto\",\"active_inspect\":\"auto\",\"active_multi\":null,\"active_scroll\":\"auto\",\"active_tap\":\"auto\",\"tools\":[{\"id\":\"3286\",\"type\":\"HoverTool\"}]},\"id\":\"3287\",\"type\":\"Toolbar\"},{\"attributes\":{},\"id\":\"3555\",\"type\":\"LinearScale\"},{\"attributes\":{\"end_angle\":{\"expr\":{\"id\":\"3446\",\"type\":\"CumSum\"},\"units\":\"rad\"},\"fill_color\":{\"field\":\"color\"},\"line_color\":{\"value\":\"white\"},\"radius\":{\"units\":\"data\",\"value\":0.3},\"start_angle\":{\"expr\":{\"id\":\"3445\",\"type\":\"CumSum\"},\"units\":\"rad\"},\"x\":{\"value\":0},\"y\":{\"value\":1}},\"id\":\"3449\",\"type\":\"Wedge\"},{\"attributes\":{\"field\":\"angle\",\"include_zero\":true},\"id\":\"3406\",\"type\":\"CumSum\"},{\"attributes\":{\"children\":[{\"id\":\"3344\",\"subtype\":\"Figure\",\"type\":\"Plot\"},{\"id\":\"3383\",\"subtype\":\"Figure\",\"type\":\"Plot\"}]},\"id\":\"3493\",\"type\":\"Row\"},{\"attributes\":{\"click_policy\":\"hide\",\"items\":[{\"id\":\"3586\",\"type\":\"LegendItem\"}],\"label_text_font_size\":{\"value\":\"6pt\"},\"location\":\"top_left\",\"plot\":{\"id\":\"3549\",\"subtype\":\"Figure\",\"type\":\"Plot\"}},\"id\":\"3585\",\"type\":\"Legend\"},{\"attributes\":{},\"id\":\"3454\",\"type\":\"BasicTickFormatter\"},{\"attributes\":{\"children\":[{\"id\":\"3604\",\"type\":\"Row\"}]},\"id\":\"3605\",\"type\":\"Column\"},{\"attributes\":{},\"id\":\"3360\",\"type\":\"BasicTicker\"},{\"attributes\":{},\"id\":\"3456\",\"type\":\"BasicTickFormatter\"},{\"attributes\":{\"source\":{\"id\":\"3535\",\"type\":\"ColumnDataSource\"}},\"id\":\"3540\",\"type\":\"CDSView\"},{\"attributes\":{\"label\":{\"field\":\"gender_victim\"},\"renderers\":[{\"id\":\"3578\",\"type\":\"GlyphRenderer\"}]},\"id\":\"3586\",\"type\":\"LegendItem\"},{\"attributes\":{\"dimension\":1,\"plot\":{\"id\":\"3344\",\"subtype\":\"Figure\",\"type\":\"Plot\"},\"ticker\":{\"id\":\"3360\",\"type\":\"BasicTicker\"}},\"id\":\"3363\",\"type\":\"Grid\"},{\"attributes\":{\"click_policy\":\"hide\",\"items\":[{\"id\":\"3459\",\"type\":\"LegendItem\"}],\"label_text_font_size\":{\"value\":\"6pt\"},\"location\":\"top_left\",\"plot\":{\"id\":\"3422\",\"subtype\":\"Figure\",\"type\":\"Plot\"}},\"id\":\"3458\",\"type\":\"Legend\"},{\"attributes\":{\"callback\":null},\"id\":\"3551\",\"type\":\"DataRange1d\"},{\"attributes\":{},\"id\":\"3593\",\"type\":\"UnionRenderers\"},{\"attributes\":{\"formatter\":{\"id\":\"3376\",\"type\":\"BasicTickFormatter\"},\"plot\":{\"id\":\"3344\",\"subtype\":\"Figure\",\"type\":\"Plot\"},\"ticker\":{\"id\":\"3355\",\"type\":\"BasicTicker\"}},\"id\":\"3354\",\"type\":\"LinearAxis\"},{\"attributes\":{\"callback\":null},\"id\":\"3553\",\"type\":\"DataRange1d\"},{\"attributes\":{},\"id\":\"3316\",\"type\":\"BasicTicker\"},{\"attributes\":{},\"id\":\"3600\",\"type\":\"Selection\"},{\"attributes\":{\"field\":\"angle\",\"include_zero\":true},\"id\":\"3572\",\"type\":\"CumSum\"},{\"attributes\":{\"label\":{\"field\":\"race_victim\"},\"renderers\":[{\"id\":\"3451\",\"type\":\"GlyphRenderer\"}]},\"id\":\"3459\",\"type\":\"LegendItem\"},{\"attributes\":{\"callback\":null,\"tooltips\":\"@share_in_total_complaints_by_race:@race_victim\"},\"id\":\"3325\",\"type\":\"HoverTool\"},{\"attributes\":{\"below\":[{\"id\":\"3520\",\"type\":\"LinearAxis\"}],\"left\":[{\"id\":\"3525\",\"type\":\"LinearAxis\"}],\"plot_height\":350,\"renderers\":[{\"id\":\"3520\",\"type\":\"LinearAxis\"},{\"id\":\"3524\",\"type\":\"Grid\"},{\"id\":\"3525\",\"type\":\"LinearAxis\"},{\"id\":\"3529\",\"type\":\"Grid\"},{\"id\":\"3546\",\"type\":\"Legend\"},{\"id\":\"3539\",\"type\":\"GlyphRenderer\"}],\"title\":{\"id\":\"3509\",\"type\":\"Title\"},\"toolbar\":{\"id\":\"3531\",\"type\":\"Toolbar\"},\"toolbar_location\":null,\"x_range\":{\"id\":\"3512\",\"type\":\"DataRange1d\"},\"x_scale\":{\"id\":\"3516\",\"type\":\"LinearScale\"},\"y_range\":{\"id\":\"3514\",\"type\":\"DataRange1d\"},\"y_scale\":{\"id\":\"3518\",\"type\":\"LinearScale\"}},\"id\":\"3510\",\"subtype\":\"Figure\",\"type\":\"Plot\"},{\"attributes\":{\"data_source\":{\"id\":\"3535\",\"type\":\"ColumnDataSource\"},\"glyph\":{\"id\":\"3537\",\"type\":\"Wedge\"},\"hover_glyph\":null,\"muted_glyph\":null,\"nonselection_glyph\":{\"id\":\"3538\",\"type\":\"Wedge\"},\"selection_glyph\":null,\"view\":{\"id\":\"3540\",\"type\":\"CDSView\"}},\"id\":\"3539\",\"type\":\"GlyphRenderer\"},{\"attributes\":{\"callback\":null,\"data\":{\"angle\":{\"__ndarray__\":\"bVyagpgCoz/Su6WVwxIWQGwR+PT1rtU/UNVSNurPdj8WbMI784jYPw==\",\"dtype\":\"float64\",\"shape\":[5]},\"color\":[\"#3182bd\",\"#6baed6\",\"#9ecae1\",\"#c6dbef\",\"#e6550d\"],\"count\":[40,5945,365,6,413],\"index\":[4,5,6,7,8],\"race_accused\":[\"BLACK\",\"BLACK\",\"BLACK\",\"BLACK\",\"BLACK\"],\"race_victim\":[\"ASIAN/PACIFIC ISLANDER\",\"BLACK\",\"HISPANIC\",\"NATIVE AMERICAN/ALASKAN NATIVE\",\"WHITE\"],\"share_in_total_complaints_by_race\":{\"__ndarray__\":\"rl0Dl1c0eD+GqBi0xhrsP9rWP+izm6s/0dbQTpwLTT+08RlyJz2vPw==\",\"dtype\":\"float64\",\"shape\":[5]},\"total complaints\":[6769,6769,6769,6769,6769]},\"selected\":{\"id\":\"3473\",\"type\":\"Selection\"},\"selection_policy\":{\"id\":\"3474\",\"type\":\"UnionRenderers\"}},\"id\":\"3330\",\"type\":\"ColumnDataSource\"},{\"attributes\":{\"source\":{\"id\":\"3369\",\"type\":\"ColumnDataSource\"}},\"id\":\"3374\",\"type\":\"CDSView\"},{\"attributes\":{},\"id\":\"3466\",\"type\":\"UnionRenderers\"},{\"attributes\":{},\"id\":\"3601\",\"type\":\"UnionRenderers\"},{\"attributes\":{\"tools\":[{\"id\":\"3530\",\"type\":\"HoverTool\"},{\"id\":\"3569\",\"type\":\"HoverTool\"}]},\"id\":\"3606\",\"type\":\"ProxyToolbar\"},{\"attributes\":{},\"id\":\"3352\",\"type\":\"LinearScale\"},{\"attributes\":{\"end_angle\":{\"expr\":{\"id\":\"3534\",\"type\":\"CumSum\"},\"units\":\"rad\"},\"fill_alpha\":{\"value\":0.1},\"fill_color\":{\"value\":\"#1f77b4\"},\"line_alpha\":{\"value\":0.1},\"line_color\":{\"value\":\"#1f77b4\"},\"radius\":{\"units\":\"data\",\"value\":0.4},\"start_angle\":{\"expr\":{\"id\":\"3533\",\"type\":\"CumSum\"},\"units\":\"rad\"},\"x\":{\"value\":0},\"y\":{\"value\":1}},\"id\":\"3538\",\"type\":\"Wedge\"},{\"attributes\":{},\"id\":\"3473\",\"type\":\"Selection\"},{\"attributes\":{\"field\":\"angle\"},\"id\":\"3290\",\"type\":\"CumSum\"},{\"attributes\":{\"below\":[{\"id\":\"3393\",\"type\":\"LinearAxis\"}],\"left\":[{\"id\":\"3398\",\"type\":\"LinearAxis\"}],\"plot_height\":350,\"renderers\":[{\"id\":\"3393\",\"type\":\"LinearAxis\"},{\"id\":\"3397\",\"type\":\"Grid\"},{\"id\":\"3398\",\"type\":\"LinearAxis\"},{\"id\":\"3402\",\"type\":\"Grid\"},{\"id\":\"3419\",\"type\":\"Legend\"},{\"id\":\"3412\",\"type\":\"GlyphRenderer\"}],\"title\":{\"id\":\"3382\",\"type\":\"Title\"},\"toolbar\":{\"id\":\"3404\",\"type\":\"Toolbar\"},\"toolbar_location\":null,\"x_range\":{\"id\":\"3385\",\"type\":\"DataRange1d\"},\"x_scale\":{\"id\":\"3389\",\"type\":\"LinearScale\"},\"y_range\":{\"id\":\"3387\",\"type\":\"DataRange1d\"},\"y_scale\":{\"id\":\"3391\",\"type\":\"LinearScale\"}},\"id\":\"3383\",\"subtype\":\"Figure\",\"type\":\"Plot\"},{\"attributes\":{\"toolbar\":{\"id\":\"3606\",\"type\":\"ProxyToolbar\"},\"toolbar_location\":\"above\"},\"id\":\"3607\",\"type\":\"ToolbarBox\"},{\"attributes\":{\"end_angle\":{\"expr\":{\"id\":\"3534\",\"type\":\"CumSum\"},\"units\":\"rad\"},\"fill_color\":{\"field\":\"color\"},\"line_color\":{\"value\":\"white\"},\"radius\":{\"units\":\"data\",\"value\":0.4},\"start_angle\":{\"expr\":{\"id\":\"3533\",\"type\":\"CumSum\"},\"units\":\"rad\"},\"x\":{\"value\":0},\"y\":{\"value\":1}},\"id\":\"3537\",\"type\":\"Wedge\"},{\"attributes\":{},\"id\":\"3474\",\"type\":\"UnionRenderers\"},{\"attributes\":{\"label\":{\"field\":\"race_victim\"},\"renderers\":[{\"id\":\"3373\",\"type\":\"GlyphRenderer\"}]},\"id\":\"3381\",\"type\":\"LegendItem\"},{\"attributes\":{\"children\":[{\"id\":\"3607\",\"type\":\"ToolbarBox\"},{\"id\":\"3605\",\"type\":\"Column\"}]},\"id\":\"3608\",\"type\":\"Column\"},{\"attributes\":{},\"id\":\"3542\",\"type\":\"BasicTickFormatter\"},{\"attributes\":{},\"id\":\"3483\",\"type\":\"UnionRenderers\"},{\"attributes\":{\"data_source\":{\"id\":\"3330\",\"type\":\"ColumnDataSource\"},\"glyph\":{\"id\":\"3332\",\"type\":\"Wedge\"},\"hover_glyph\":null,\"muted_glyph\":null,\"nonselection_glyph\":{\"id\":\"3333\",\"type\":\"Wedge\"},\"selection_glyph\":null,\"view\":{\"id\":\"3335\",\"type\":\"CDSView\"}},\"id\":\"3334\",\"type\":\"GlyphRenderer\"},{\"attributes\":{\"label\":{\"field\":\"race_victim\"},\"renderers\":[{\"id\":\"3334\",\"type\":\"GlyphRenderer\"}]},\"id\":\"3342\",\"type\":\"LegendItem\"},{\"attributes\":{\"child\":{\"id\":\"3608\",\"type\":\"Column\"},\"title\":\"Gender-wise breakup of complaints\"},\"id\":\"3609\",\"type\":\"Panel\"},{\"attributes\":{\"label\":{\"field\":\"race_victim\"},\"renderers\":[{\"id\":\"3295\",\"type\":\"GlyphRenderer\"}]},\"id\":\"3303\",\"type\":\"LegendItem\"},{\"attributes\":{},\"id\":\"3355\",\"type\":\"BasicTicker\"},{\"attributes\":{},\"id\":\"3544\",\"type\":\"BasicTickFormatter\"},{\"attributes\":{\"plot\":{\"id\":\"3266\",\"subtype\":\"Figure\",\"type\":\"Plot\"},\"ticker\":{\"id\":\"3277\",\"type\":\"BasicTicker\"}},\"id\":\"3280\",\"type\":\"Grid\"},{\"attributes\":{},\"id\":\"3490\",\"type\":\"Selection\"},{\"attributes\":{\"click_policy\":\"hide\",\"items\":[{\"id\":\"3547\",\"type\":\"LegendItem\"}],\"label_text_font_size\":{\"value\":\"6pt\"},\"location\":\"top_left\",\"plot\":{\"id\":\"3510\",\"subtype\":\"Figure\",\"type\":\"Plot\"}},\"id\":\"3546\",\"type\":\"Legend\"},{\"attributes\":{},\"id\":\"3491\",\"type\":\"UnionRenderers\"},{\"attributes\":{},\"id\":\"3277\",\"type\":\"BasicTicker\"},{\"attributes\":{\"click_policy\":\"hide\",\"items\":[{\"id\":\"3303\",\"type\":\"LegendItem\"}],\"label_text_font_size\":{\"value\":\"6pt\"},\"location\":\"top_left\",\"plot\":{\"id\":\"3266\",\"subtype\":\"Figure\",\"type\":\"Plot\"}},\"id\":\"3302\",\"type\":\"Legend\"},{\"attributes\":{\"children\":[{\"id\":\"3422\",\"subtype\":\"Figure\",\"type\":\"Plot\"},{\"id\":\"3502\",\"type\":\"Spacer\"}]},\"id\":\"3503\",\"type\":\"Row\"},{\"attributes\":{\"label\":{\"field\":\"gender_victim\"},\"renderers\":[{\"id\":\"3539\",\"type\":\"GlyphRenderer\"}]},\"id\":\"3547\",\"type\":\"LegendItem\"},{\"attributes\":{\"callback\":null,\"tooltips\":\"@share_in_total_complaints_by_race:@race_victim\"},\"id\":\"3364\",\"type\":\"HoverTool\"},{\"attributes\":{\"callback\":null},\"id\":\"3307\",\"type\":\"DataRange1d\"},{\"attributes\":{},\"id\":\"3499\",\"type\":\"Selection\"},{\"attributes\":{\"click_policy\":\"hide\",\"items\":[{\"id\":\"3342\",\"type\":\"LegendItem\"}],\"label_text_font_size\":{\"value\":\"6pt\"},\"location\":\"top_left\",\"plot\":{\"id\":\"3305\",\"subtype\":\"Figure\",\"type\":\"Plot\"}},\"id\":\"3341\",\"type\":\"Legend\"},{\"attributes\":{\"plot\":null,\"text\":\"Gender-wise proportion of victims when officer is MALE\"},\"id\":\"3548\",\"type\":\"Title\"},{\"attributes\":{\"end_angle\":{\"expr\":{\"id\":\"3290\",\"type\":\"CumSum\"},\"units\":\"rad\"},\"fill_alpha\":{\"value\":0.1},\"fill_color\":{\"value\":\"#1f77b4\"},\"line_alpha\":{\"value\":0.1},\"line_color\":{\"value\":\"#1f77b4\"},\"radius\":{\"units\":\"data\",\"value\":0.3},\"start_angle\":{\"expr\":{\"id\":\"3289\",\"type\":\"CumSum\"},\"units\":\"rad\"},\"x\":{\"value\":0},\"y\":{\"value\":1}},\"id\":\"3294\",\"type\":\"Wedge\"},{\"attributes\":{},\"id\":\"3557\",\"type\":\"LinearScale\"},{\"attributes\":{},\"id\":\"3500\",\"type\":\"UnionRenderers\"},{\"attributes\":{\"field\":\"angle\",\"include_zero\":true},\"id\":\"3289\",\"type\":\"CumSum\"},{\"attributes\":{\"height\":350,\"width\":600},\"id\":\"3502\",\"type\":\"Spacer\"},{\"attributes\":{\"formatter\":{\"id\":\"3581\",\"type\":\"BasicTickFormatter\"},\"plot\":{\"id\":\"3549\",\"subtype\":\"Figure\",\"type\":\"Plot\"},\"ticker\":{\"id\":\"3560\",\"type\":\"BasicTicker\"}},\"id\":\"3559\",\"type\":\"LinearAxis\"},{\"attributes\":{\"source\":{\"id\":\"3291\",\"type\":\"ColumnDataSource\"}},\"id\":\"3296\",\"type\":\"CDSView\"},{\"attributes\":{},\"id\":\"3376\",\"type\":\"BasicTickFormatter\"},{\"attributes\":{\"end_angle\":{\"expr\":{\"id\":\"3368\",\"type\":\"CumSum\"},\"units\":\"rad\"},\"fill_color\":{\"field\":\"color\"},\"line_color\":{\"value\":\"white\"},\"radius\":{\"units\":\"data\",\"value\":0.3},\"start_angle\":{\"expr\":{\"id\":\"3367\",\"type\":\"CumSum\"},\"units\":\"rad\"},\"x\":{\"value\":0},\"y\":{\"value\":1}},\"id\":\"3371\",\"type\":\"Wedge\"},{\"attributes\":{},\"id\":\"3313\",\"type\":\"LinearScale\"},{\"attributes\":{},\"id\":\"3560\",\"type\":\"BasicTicker\"},{\"attributes\":{\"tools\":[{\"id\":\"3286\",\"type\":\"HoverTool\"},{\"id\":\"3325\",\"type\":\"HoverTool\"},{\"id\":\"3364\",\"type\":\"HoverTool\"},{\"id\":\"3403\",\"type\":\"HoverTool\"},{\"id\":\"3442\",\"type\":\"HoverTool\"}]},\"id\":\"3505\",\"type\":\"ProxyToolbar\"},{\"attributes\":{\"data_source\":{\"id\":\"3369\",\"type\":\"ColumnDataSource\"},\"glyph\":{\"id\":\"3371\",\"type\":\"Wedge\"},\"hover_glyph\":null,\"muted_glyph\":null,\"nonselection_glyph\":{\"id\":\"3372\",\"type\":\"Wedge\"},\"selection_glyph\":null,\"view\":{\"id\":\"3374\",\"type\":\"CDSView\"}},\"id\":\"3373\",\"type\":\"GlyphRenderer\"},{\"attributes\":{\"plot\":{\"id\":\"3549\",\"subtype\":\"Figure\",\"type\":\"Plot\"},\"ticker\":{\"id\":\"3560\",\"type\":\"BasicTicker\"}},\"id\":\"3563\",\"type\":\"Grid\"},{\"attributes\":{\"callback\":null,\"data\":{\"angle\":{\"__ndarray__\":\"57q6WgK+tj8v3iMH/NQRQKUNmXd3+u0/RBISpsKV6T8=\",\"dtype\":\"float64\",\"shape\":[4]},\"color\":[\"#3182bd\",\"#6baed6\",\"#9ecae1\",\"#c6dbef\"],\"count\":[11,552,116,99],\"index\":[0,1,2,3],\"race_accused\":[\"ASIAN/PACIFIC ISLANDER\",\"ASIAN/PACIFIC ISLANDER\",\"ASIAN/PACIFIC ISLANDER\",\"ASIAN/PACIFIC ISLANDER\"],\"race_victim\":[\"ASIAN/PACIFIC ISLANDER\",\"BLACK\",\"HISPANIC\",\"WHITE\"],\"share_in_total_complaints_by_race\":{\"__ndarray__\":\"j2549c/0jD8lKKeaUbTmP1Ma+Ju3FcM/Mb4T+rRJwD8=\",\"dtype\":\"float64\",\"shape\":[4]},\"total complaints\":[778,778,778,778]},\"selected\":{\"id\":\"3465\",\"type\":\"Selection\"},\"selection_policy\":{\"id\":\"3466\",\"type\":\"UnionRenderers\"}},\"id\":\"3291\",\"type\":\"ColumnDataSource\"},{\"attributes\":{\"toolbar\":{\"id\":\"3505\",\"type\":\"ProxyToolbar\"},\"toolbar_location\":\"above\"},\"id\":\"3506\",\"type\":\"ToolbarBox\"},{\"attributes\":{\"callback\":null},\"id\":\"3385\",\"type\":\"DataRange1d\"},{\"attributes\":{\"formatter\":{\"id\":\"3583\",\"type\":\"BasicTickFormatter\"},\"plot\":{\"id\":\"3549\",\"subtype\":\"Figure\",\"type\":\"Plot\"},\"ticker\":{\"id\":\"3565\",\"type\":\"BasicTicker\"}},\"id\":\"3564\",\"type\":\"LinearAxis\"},{\"attributes\":{\"children\":[{\"id\":\"3506\",\"type\":\"ToolbarBox\"},{\"id\":\"3504\",\"type\":\"Column\"}]},\"id\":\"3507\",\"type\":\"Column\"},{\"attributes\":{\"below\":[{\"id\":\"3432\",\"type\":\"LinearAxis\"}],\"left\":[{\"id\":\"3437\",\"type\":\"LinearAxis\"}],\"plot_height\":350,\"renderers\":[{\"id\":\"3432\",\"type\":\"LinearAxis\"},{\"id\":\"3436\",\"type\":\"Grid\"},{\"id\":\"3437\",\"type\":\"LinearAxis\"},{\"id\":\"3441\",\"type\":\"Grid\"},{\"id\":\"3458\",\"type\":\"Legend\"},{\"id\":\"3451\",\"type\":\"GlyphRenderer\"}],\"title\":{\"id\":\"3421\",\"type\":\"Title\"},\"toolbar\":{\"id\":\"3443\",\"type\":\"Toolbar\"},\"toolbar_location\":null,\"x_range\":{\"id\":\"3424\",\"type\":\"DataRange1d\"},\"x_scale\":{\"id\":\"3428\",\"type\":\"LinearScale\"},\"y_range\":{\"id\":\"3426\",\"type\":\"DataRange1d\"},\"y_scale\":{\"id\":\"3430\",\"type\":\"LinearScale\"}},\"id\":\"3422\",\"subtype\":\"Figure\",\"type\":\"Plot\"},{\"attributes\":{\"data_source\":{\"id\":\"3291\",\"type\":\"ColumnDataSource\"},\"glyph\":{\"id\":\"3293\",\"type\":\"Wedge\"},\"hover_glyph\":null,\"muted_glyph\":null,\"nonselection_glyph\":{\"id\":\"3294\",\"type\":\"Wedge\"},\"selection_glyph\":null,\"view\":{\"id\":\"3296\",\"type\":\"CDSView\"}},\"id\":\"3295\",\"type\":\"GlyphRenderer\"},{\"attributes\":{},\"id\":\"3378\",\"type\":\"BasicTickFormatter\"},{\"attributes\":{},\"id\":\"3565\",\"type\":\"BasicTicker\"},{\"attributes\":{\"child\":{\"id\":\"3507\",\"type\":\"Column\"},\"title\":\"Race-wise breakup of complaints\"},\"id\":\"3508\",\"type\":\"Panel\"},{\"attributes\":{\"plot\":{\"id\":\"3305\",\"subtype\":\"Figure\",\"type\":\"Plot\"},\"ticker\":{\"id\":\"3316\",\"type\":\"BasicTicker\"}},\"id\":\"3319\",\"type\":\"Grid\"},{\"attributes\":{\"dimension\":1,\"plot\":{\"id\":\"3549\",\"subtype\":\"Figure\",\"type\":\"Plot\"},\"ticker\":{\"id\":\"3565\",\"type\":\"BasicTicker\"}},\"id\":\"3568\",\"type\":\"Grid\"},{\"attributes\":{},\"id\":\"3337\",\"type\":\"BasicTickFormatter\"},{\"attributes\":{\"end_angle\":{\"expr\":{\"id\":\"3368\",\"type\":\"CumSum\"},\"units\":\"rad\"},\"fill_alpha\":{\"value\":0.1},\"fill_color\":{\"value\":\"#1f77b4\"},\"line_alpha\":{\"value\":0.1},\"line_color\":{\"value\":\"#1f77b4\"},\"radius\":{\"units\":\"data\",\"value\":0.3},\"start_angle\":{\"expr\":{\"id\":\"3367\",\"type\":\"CumSum\"},\"units\":\"rad\"},\"x\":{\"value\":0},\"y\":{\"value\":1}},\"id\":\"3372\",\"type\":\"Wedge\"},{\"attributes\":{},\"id\":\"3592\",\"type\":\"Selection\"},{\"attributes\":{},\"id\":\"3518\",\"type\":\"LinearScale\"},{\"attributes\":{\"active_drag\":\"auto\",\"active_inspect\":\"auto\",\"active_multi\":null,\"active_scroll\":\"auto\",\"active_tap\":\"auto\",\"tools\":[{\"id\":\"3569\",\"type\":\"HoverTool\"}]},\"id\":\"3570\",\"type\":\"Toolbar\"},{\"attributes\":{\"callback\":null,\"tooltips\":\"@share_in_total_complaints_by_race:@race_victim\"},\"id\":\"3286\",\"type\":\"HoverTool\"},{\"attributes\":{\"callback\":null,\"tooltips\":\"@share_in_total_complaints_by_gender:@gender_victim\"},\"id\":\"3569\",\"type\":\"HoverTool\"},{\"attributes\":{\"plot\":null,\"text\":\"Gender-wise proportion of victims when officer is FEMALE\"},\"id\":\"3509\",\"type\":\"Title\"},{\"attributes\":{\"below\":[{\"id\":\"3559\",\"type\":\"LinearAxis\"}],\"left\":[{\"id\":\"3564\",\"type\":\"LinearAxis\"}],\"plot_height\":350,\"renderers\":[{\"id\":\"3559\",\"type\":\"LinearAxis\"},{\"id\":\"3563\",\"type\":\"Grid\"},{\"id\":\"3564\",\"type\":\"LinearAxis\"},{\"id\":\"3568\",\"type\":\"Grid\"},{\"id\":\"3585\",\"type\":\"Legend\"},{\"id\":\"3578\",\"type\":\"GlyphRenderer\"}],\"title\":{\"id\":\"3548\",\"type\":\"Title\"},\"toolbar\":{\"id\":\"3570\",\"type\":\"Toolbar\"},\"toolbar_location\":null,\"x_range\":{\"id\":\"3551\",\"type\":\"DataRange1d\"},\"x_scale\":{\"id\":\"3555\",\"type\":\"LinearScale\"},\"y_range\":{\"id\":\"3553\",\"type\":\"DataRange1d\"},\"y_scale\":{\"id\":\"3557\",\"type\":\"LinearScale\"}},\"id\":\"3549\",\"subtype\":\"Figure\",\"type\":\"Plot\"},{\"attributes\":{\"plot\":{\"id\":\"3344\",\"subtype\":\"Figure\",\"type\":\"Plot\"},\"ticker\":{\"id\":\"3355\",\"type\":\"BasicTicker\"}},\"id\":\"3358\",\"type\":\"Grid\"},{\"attributes\":{\"end_angle\":{\"expr\":{\"id\":\"3290\",\"type\":\"CumSum\"},\"units\":\"rad\"},\"fill_color\":{\"field\":\"color\"},\"line_color\":{\"value\":\"white\"},\"radius\":{\"units\":\"data\",\"value\":0.3},\"start_angle\":{\"expr\":{\"id\":\"3289\",\"type\":\"CumSum\"},\"units\":\"rad\"},\"x\":{\"value\":0},\"y\":{\"value\":1}},\"id\":\"3293\",\"type\":\"Wedge\"},{\"attributes\":{\"callback\":null,\"data\":{\"angle\":{\"__ndarray__\":\"5LDubetaqT+LwQmlg/UQQMOn4CFJevY/DeZB1Qx4XD/fgMh4QMviPw==\",\"dtype\":\"float64\",\"shape\":[5]},\"color\":[\"#3182bd\",\"#6baed6\",\"#9ecae1\",\"#c6dbef\",\"#e6550d\"],\"count\":[57,4880,1617,2,676],\"index\":[9,10,11,12,13],\"race_accused\":[\"HISPANIC\",\"HISPANIC\",\"HISPANIC\",\"HISPANIC\",\"HISPANIC\"],\"race_victim\":[\"ASIAN/PACIFIC ISLANDER\",\"BLACK\",\"HISPANIC\",\"NATIVE AMERICAN/ALASKAN NATIVE\",\"WHITE\"],\"share_in_total_complaints_by_race\":{\"__ndarray__\":\"90MCbz8kgD+afNmgyZflP1jpqYWVnsw/ePshgbcfMj8F3n5I4O23Pw==\",\"dtype\":\"float64\",\"shape\":[5]},\"total complaints\":[7232,7232,7232,7232,7232]},\"selected\":{\"id\":\"3482\",\"type\":\"Selection\"},\"selection_policy\":{\"id\":\"3483\",\"type\":\"UnionRenderers\"}},\"id\":\"3369\",\"type\":\"ColumnDataSource\"},{\"attributes\":{\"formatter\":{\"id\":\"3542\",\"type\":\"BasicTickFormatter\"},\"plot\":{\"id\":\"3510\",\"subtype\":\"Figure\",\"type\":\"Plot\"},\"ticker\":{\"id\":\"3521\",\"type\":\"BasicTicker\"}},\"id\":\"3520\",\"type\":\"LinearAxis\"},{\"attributes\":{\"field\":\"angle\"},\"id\":\"3573\",\"type\":\"CumSum\"},{\"attributes\":{\"plot\":null,\"text\":\"Race-wise proportion of victims when officer is NATIVE AMERICAN/ALASKAN NATIVE\"},\"id\":\"3382\",\"type\":\"Title\"},{\"attributes\":{\"plot\":null,\"text\":\"Race-wise proportion of victims when officer is HISPANIC\"},\"id\":\"3343\",\"type\":\"Title\"},{\"attributes\":{\"callback\":null},\"id\":\"3309\",\"type\":\"DataRange1d\"},{\"attributes\":{\"plot\":null,\"text\":\"Race-wise proportion of victims when officer is WHITE\"},\"id\":\"3421\",\"type\":\"Title\"},{\"attributes\":{},\"id\":\"3521\",\"type\":\"BasicTicker\"},{\"attributes\":{\"callback\":null},\"id\":\"3387\",\"type\":\"DataRange1d\"},{\"attributes\":{\"callback\":null,\"data\":{\"angle\":{\"__ndarray__\":\"o037OWz//j+vWcVFIGIRQA==\",\"dtype\":\"float64\",\"shape\":[2]},\"color\":[\"#ef8a62\",\"#67a9cf\"],\"count\":[9627,21595],\"gender_accused\":[\"MALE\",\"MALE\"],\"gender_victim\":[\"FEMALE\",\"MALE\"],\"index\":[2,3],\"share_in_total_complaints_by_gender\":{\"__ndarray__\":\"zggF19i70z+Ze32UEyLmPw==\",\"dtype\":\"float64\",\"shape\":[2]},\"total complaints\":[31222,31222]},\"selected\":{\"id\":\"3600\",\"type\":\"Selection\"},\"selection_policy\":{\"id\":\"3601\",\"type\":\"UnionRenderers\"}},\"id\":\"3574\",\"type\":\"ColumnDataSource\"},{\"attributes\":{\"field\":\"angle\",\"include_zero\":true},\"id\":\"3533\",\"type\":\"CumSum\"},{\"attributes\":{\"end_angle\":{\"expr\":{\"id\":\"3329\",\"type\":\"CumSum\"},\"units\":\"rad\"},\"fill_color\":{\"field\":\"color\"},\"line_color\":{\"value\":\"white\"},\"radius\":{\"units\":\"data\",\"value\":0.3},\"start_angle\":{\"expr\":{\"id\":\"3328\",\"type\":\"CumSum\"},\"units\":\"rad\"},\"x\":{\"value\":0},\"y\":{\"value\":1}},\"id\":\"3332\",\"type\":\"Wedge\"},{\"attributes\":{},\"id\":\"3391\",\"type\":\"LinearScale\"},{\"attributes\":{\"formatter\":{\"id\":\"3415\",\"type\":\"BasicTickFormatter\"},\"plot\":{\"id\":\"3383\",\"subtype\":\"Figure\",\"type\":\"Plot\"},\"ticker\":{\"id\":\"3394\",\"type\":\"BasicTicker\"}},\"id\":\"3393\",\"type\":\"LinearAxis\"},{\"attributes\":{},\"id\":\"3430\",\"type\":\"LinearScale\"},{\"attributes\":{\"end_angle\":{\"expr\":{\"id\":\"3329\",\"type\":\"CumSum\"},\"units\":\"rad\"},\"fill_alpha\":{\"value\":0.1},\"fill_color\":{\"value\":\"#1f77b4\"},\"line_alpha\":{\"value\":0.1},\"line_color\":{\"value\":\"#1f77b4\"},\"radius\":{\"units\":\"data\",\"value\":0.3},\"start_angle\":{\"expr\":{\"id\":\"3328\",\"type\":\"CumSum\"},\"units\":\"rad\"},\"x\":{\"value\":0},\"y\":{\"value\":1}},\"id\":\"3333\",\"type\":\"Wedge\"},{\"attributes\":{},\"id\":\"3394\",\"type\":\"BasicTicker\"},{\"attributes\":{\"plot\":{\"id\":\"3383\",\"subtype\":\"Figure\",\"type\":\"Plot\"},\"ticker\":{\"id\":\"3394\",\"type\":\"BasicTicker\"}},\"id\":\"3397\",\"type\":\"Grid\"},{\"attributes\":{\"formatter\":{\"id\":\"3417\",\"type\":\"BasicTickFormatter\"},\"plot\":{\"id\":\"3383\",\"subtype\":\"Figure\",\"type\":\"Plot\"},\"ticker\":{\"id\":\"3399\",\"type\":\"BasicTicker\"}},\"id\":\"3398\",\"type\":\"LinearAxis\"},{\"attributes\":{},\"id\":\"3399\",\"type\":\"BasicTicker\"},{\"attributes\":{\"dimension\":1,\"plot\":{\"id\":\"3383\",\"subtype\":\"Figure\",\"type\":\"Plot\"},\"ticker\":{\"id\":\"3399\",\"type\":\"BasicTicker\"}},\"id\":\"3402\",\"type\":\"Grid\"},{\"attributes\":{\"dimension\":1,\"plot\":{\"id\":\"3266\",\"subtype\":\"Figure\",\"type\":\"Plot\"},\"ticker\":{\"id\":\"3282\",\"type\":\"BasicTicker\"}},\"id\":\"3285\",\"type\":\"Grid\"},{\"attributes\":{\"field\":\"angle\",\"include_zero\":true},\"id\":\"3367\",\"type\":\"CumSum\"},{\"attributes\":{\"callback\":null},\"id\":\"3268\",\"type\":\"DataRange1d\"},{\"attributes\":{\"active_drag\":\"auto\",\"active_inspect\":\"auto\",\"active_multi\":null,\"active_scroll\":\"auto\",\"active_tap\":\"auto\",\"tools\":[{\"id\":\"3403\",\"type\":\"HoverTool\"}]},\"id\":\"3404\",\"type\":\"Toolbar\"},{\"attributes\":{\"callback\":null,\"tooltips\":\"@share_in_total_complaints_by_race:@race_victim\"},\"id\":\"3403\",\"type\":\"HoverTool\"},{\"attributes\":{\"callback\":null},\"id\":\"3426\",\"type\":\"DataRange1d\"},{\"attributes\":{\"field\":\"angle\"},\"id\":\"3407\",\"type\":\"CumSum\"},{\"attributes\":{\"below\":[{\"id\":\"3315\",\"type\":\"LinearAxis\"}],\"left\":[{\"id\":\"3320\",\"type\":\"LinearAxis\"}],\"plot_height\":350,\"renderers\":[{\"id\":\"3315\",\"type\":\"LinearAxis\"},{\"id\":\"3319\",\"type\":\"Grid\"},{\"id\":\"3320\",\"type\":\"LinearAxis\"},{\"id\":\"3324\",\"type\":\"Grid\"},{\"id\":\"3341\",\"type\":\"Legend\"},{\"id\":\"3334\",\"type\":\"GlyphRenderer\"}],\"title\":{\"id\":\"3304\",\"type\":\"Title\"},\"toolbar\":{\"id\":\"3326\",\"type\":\"Toolbar\"},\"toolbar_location\":null,\"x_range\":{\"id\":\"3307\",\"type\":\"DataRange1d\"},\"x_scale\":{\"id\":\"3311\",\"type\":\"LinearScale\"},\"y_range\":{\"id\":\"3309\",\"type\":\"DataRange1d\"},\"y_scale\":{\"id\":\"3313\",\"type\":\"LinearScale\"}},\"id\":\"3305\",\"subtype\":\"Figure\",\"type\":\"Plot\"},{\"attributes\":{\"callback\":null,\"data\":{\"angle\":{\"__ndarray__\":\"q1b7g1Sjvj9lcy04UsEQQHU7XS76MPI/1et78+nO6j8=\",\"dtype\":\"float64\",\"shape\":[4]},\"color\":[\"#3182bd\",\"#6baed6\",\"#9ecae1\",\"#c6dbef\"],\"count\":[2,70,19,14],\"index\":[14,15,16,17],\"race_accused\":[\"NATIVE AMERICAN/ALASKAN NATIVE\",\"NATIVE AMERICAN/ALASKAN NATIVE\",\"NATIVE AMERICAN/ALASKAN NATIVE\",\"NATIVE AMERICAN/ALASKAN NATIVE\"],\"race_victim\":[\"ASIAN/PACIFIC ISLANDER\",\"BLACK\",\"HISPANIC\",\"WHITE\"],\"share_in_total_complaints_by_race\":{\"__ndarray__\":\"FDiBEziBkz9VVVVVVVXlP5dyKZdyKcc/ERERERERwT8=\",\"dtype\":\"float64\",\"shape\":[4]},\"total complaints\":[105,105,105,105]},\"selected\":{\"id\":\"3490\",\"type\":\"Selection\"},\"selection_policy\":{\"id\":\"3491\",\"type\":\"UnionRenderers\"}},\"id\":\"3408\",\"type\":\"ColumnDataSource\"},{\"attributes\":{},\"id\":\"3428\",\"type\":\"LinearScale\"},{\"attributes\":{\"formatter\":{\"id\":\"3454\",\"type\":\"BasicTickFormatter\"},\"plot\":{\"id\":\"3422\",\"subtype\":\"Figure\",\"type\":\"Plot\"},\"ticker\":{\"id\":\"3433\",\"type\":\"BasicTicker\"}},\"id\":\"3432\",\"type\":\"LinearAxis\"},{\"attributes\":{\"children\":[{\"id\":\"3266\",\"subtype\":\"Figure\",\"type\":\"Plot\"},{\"id\":\"3305\",\"subtype\":\"Figure\",\"type\":\"Plot\"}]},\"id\":\"3476\",\"type\":\"Row\"},{\"attributes\":{\"source\":{\"id\":\"3408\",\"type\":\"ColumnDataSource\"}},\"id\":\"3413\",\"type\":\"CDSView\"},{\"attributes\":{\"below\":[{\"id\":\"3354\",\"type\":\"LinearAxis\"}],\"left\":[{\"id\":\"3359\",\"type\":\"LinearAxis\"}],\"plot_height\":350,\"renderers\":[{\"id\":\"3354\",\"type\":\"LinearAxis\"},{\"id\":\"3358\",\"type\":\"Grid\"},{\"id\":\"3359\",\"type\":\"LinearAxis\"},{\"id\":\"3363\",\"type\":\"Grid\"},{\"id\":\"3380\",\"type\":\"Legend\"},{\"id\":\"3373\",\"type\":\"GlyphRenderer\"}],\"title\":{\"id\":\"3343\",\"type\":\"Title\"},\"toolbar\":{\"id\":\"3365\",\"type\":\"Toolbar\"},\"toolbar_location\":null,\"x_range\":{\"id\":\"3346\",\"type\":\"DataRange1d\"},\"x_scale\":{\"id\":\"3350\",\"type\":\"LinearScale\"},\"y_range\":{\"id\":\"3348\",\"type\":\"DataRange1d\"},\"y_scale\":{\"id\":\"3352\",\"type\":\"LinearScale\"}},\"id\":\"3344\",\"subtype\":\"Figure\",\"type\":\"Plot\"},{\"attributes\":{\"callback\":null},\"id\":\"3424\",\"type\":\"DataRange1d\"},{\"attributes\":{\"data_source\":{\"id\":\"3408\",\"type\":\"ColumnDataSource\"},\"glyph\":{\"id\":\"3410\",\"type\":\"Wedge\"},\"hover_glyph\":null,\"muted_glyph\":null,\"nonselection_glyph\":{\"id\":\"3411\",\"type\":\"Wedge\"},\"selection_glyph\":null,\"view\":{\"id\":\"3413\",\"type\":\"CDSView\"}},\"id\":\"3412\",\"type\":\"GlyphRenderer\"},{\"attributes\":{\"callback\":null},\"id\":\"3346\",\"type\":\"DataRange1d\"},{\"attributes\":{\"end_angle\":{\"expr\":{\"id\":\"3407\",\"type\":\"CumSum\"},\"units\":\"rad\"},\"fill_alpha\":{\"value\":0.1},\"fill_color\":{\"value\":\"#1f77b4\"},\"line_alpha\":{\"value\":0.1},\"line_color\":{\"value\":\"#1f77b4\"},\"radius\":{\"units\":\"data\",\"value\":0.3},\"start_angle\":{\"expr\":{\"id\":\"3406\",\"type\":\"CumSum\"},\"units\":\"rad\"},\"x\":{\"value\":0},\"y\":{\"value\":1}},\"id\":\"3411\",\"type\":\"Wedge\"},{\"attributes\":{\"end_angle\":{\"expr\":{\"id\":\"3407\",\"type\":\"CumSum\"},\"units\":\"rad\"},\"fill_color\":{\"field\":\"color\"},\"line_color\":{\"value\":\"white\"},\"radius\":{\"units\":\"data\",\"value\":0.3},\"start_angle\":{\"expr\":{\"id\":\"3406\",\"type\":\"CumSum\"},\"units\":\"rad\"},\"x\":{\"value\":0},\"y\":{\"value\":1}},\"id\":\"3410\",\"type\":\"Wedge\"},{\"attributes\":{},\"id\":\"3415\",\"type\":\"BasicTickFormatter\"},{\"attributes\":{},\"id\":\"3417\",\"type\":\"BasicTickFormatter\"},{\"attributes\":{\"formatter\":{\"id\":\"3339\",\"type\":\"BasicTickFormatter\"},\"plot\":{\"id\":\"3305\",\"subtype\":\"Figure\",\"type\":\"Plot\"},\"ticker\":{\"id\":\"3321\",\"type\":\"BasicTicker\"}},\"id\":\"3320\",\"type\":\"LinearAxis\"},{\"attributes\":{\"click_policy\":\"hide\",\"items\":[{\"id\":\"3420\",\"type\":\"LegendItem\"}],\"label_text_font_size\":{\"value\":\"6pt\"},\"location\":\"top_left\",\"plot\":{\"id\":\"3383\",\"subtype\":\"Figure\",\"type\":\"Plot\"}},\"id\":\"3419\",\"type\":\"Legend\"},{\"attributes\":{\"label\":{\"field\":\"race_victim\"},\"renderers\":[{\"id\":\"3412\",\"type\":\"GlyphRenderer\"}]},\"id\":\"3420\",\"type\":\"LegendItem\"},{\"attributes\":{\"height\":350,\"width\":600},\"id\":\"3603\",\"type\":\"Spacer\"},{\"attributes\":{},\"id\":\"3433\",\"type\":\"BasicTicker\"},{\"attributes\":{\"formatter\":{\"id\":\"3298\",\"type\":\"BasicTickFormatter\"},\"plot\":{\"id\":\"3266\",\"subtype\":\"Figure\",\"type\":\"Plot\"},\"ticker\":{\"id\":\"3277\",\"type\":\"BasicTicker\"}},\"id\":\"3276\",\"type\":\"LinearAxis\"},{\"attributes\":{\"plot\":{\"id\":\"3422\",\"subtype\":\"Figure\",\"type\":\"Plot\"},\"ticker\":{\"id\":\"3433\",\"type\":\"BasicTicker\"}},\"id\":\"3436\",\"type\":\"Grid\"},{\"attributes\":{\"formatter\":{\"id\":\"3456\",\"type\":\"BasicTickFormatter\"},\"plot\":{\"id\":\"3422\",\"subtype\":\"Figure\",\"type\":\"Plot\"},\"ticker\":{\"id\":\"3438\",\"type\":\"BasicTicker\"}},\"id\":\"3437\",\"type\":\"LinearAxis\"},{\"attributes\":{},\"id\":\"3282\",\"type\":\"BasicTicker\"},{\"attributes\":{},\"id\":\"3438\",\"type\":\"BasicTicker\"},{\"attributes\":{\"formatter\":{\"id\":\"3300\",\"type\":\"BasicTickFormatter\"},\"plot\":{\"id\":\"3266\",\"subtype\":\"Figure\",\"type\":\"Plot\"},\"ticker\":{\"id\":\"3282\",\"type\":\"BasicTicker\"}},\"id\":\"3281\",\"type\":\"LinearAxis\"},{\"attributes\":{\"callback\":null},\"id\":\"3348\",\"type\":\"DataRange1d\"},{\"attributes\":{\"below\":[{\"id\":\"3276\",\"type\":\"LinearAxis\"}],\"left\":[{\"id\":\"3281\",\"type\":\"LinearAxis\"}],\"plot_height\":350,\"renderers\":[{\"id\":\"3276\",\"type\":\"LinearAxis\"},{\"id\":\"3280\",\"type\":\"Grid\"},{\"id\":\"3281\",\"type\":\"LinearAxis\"},{\"id\":\"3285\",\"type\":\"Grid\"},{\"id\":\"3302\",\"type\":\"Legend\"},{\"id\":\"3295\",\"type\":\"GlyphRenderer\"}],\"title\":{\"id\":\"3265\",\"type\":\"Title\"},\"toolbar\":{\"id\":\"3287\",\"type\":\"Toolbar\"},\"toolbar_location\":null,\"x_range\":{\"id\":\"3268\",\"type\":\"DataRange1d\"},\"x_scale\":{\"id\":\"3272\",\"type\":\"LinearScale\"},\"y_range\":{\"id\":\"3270\",\"type\":\"DataRange1d\"},\"y_scale\":{\"id\":\"3274\",\"type\":\"LinearScale\"}},\"id\":\"3266\",\"subtype\":\"Figure\",\"type\":\"Plot\"},{\"attributes\":{},\"id\":\"3274\",\"type\":\"LinearScale\"},{\"attributes\":{\"dimension\":1,\"plot\":{\"id\":\"3422\",\"subtype\":\"Figure\",\"type\":\"Plot\"},\"ticker\":{\"id\":\"3438\",\"type\":\"BasicTicker\"}},\"id\":\"3441\",\"type\":\"Grid\"},{\"attributes\":{},\"id\":\"3321\",\"type\":\"BasicTicker\"},{\"attributes\":{\"active_drag\":\"auto\",\"active_inspect\":\"auto\",\"active_multi\":null,\"active_scroll\":\"auto\",\"active_tap\":\"auto\",\"tools\":[{\"id\":\"3442\",\"type\":\"HoverTool\"}]},\"id\":\"3443\",\"type\":\"Toolbar\"},{\"attributes\":{\"callback\":null,\"tooltips\":\"@share_in_total_complaints_by_race:@race_victim\"},\"id\":\"3442\",\"type\":\"HoverTool\"}],\"root_ids\":[\"3610\"]},\"title\":\"Bokeh Application\",\"version\":\"1.0.2\"}};\n",
       "  var render_items = [{\"docid\":\"8f2aa15a-431f-42ef-b678-837f92bdd885\",\"roots\":{\"3610\":\"bdbdaf61-bb92-4bc7-bffc-f02cb2e8c937\"}}];\n",
       "  root.Bokeh.embed.embed_items_notebook(docs_json, render_items);\n",
       "\n",
       "  }\n",
       "  if (root.Bokeh !== undefined) {\n",
       "    embed_document(root);\n",
       "  } else {\n",
       "    var attempts = 0;\n",
       "    var timer = setInterval(function(root) {\n",
       "      if (root.Bokeh !== undefined) {\n",
       "        embed_document(root);\n",
       "        clearInterval(timer);\n",
       "      }\n",
       "      attempts++;\n",
       "      if (attempts > 100) {\n",
       "        console.log(\"Bokeh: ERROR: Unable to run BokehJS code because BokehJS library is missing\");\n",
       "        clearInterval(timer);\n",
       "      }\n",
       "    }, 10, root)\n",
       "  }\n",
       "})(window);"
      ],
      "application/vnd.bokehjs_exec.v0+json": ""
     },
     "metadata": {
      "application/vnd.bokehjs_exec.v0+json": {
       "id": "3610"
      }
     },
     "output_type": "display_data"
    }
   ],
   "source": [
    "race_gender_tab_graph(total_df)"
   ]
  },
  {
   "cell_type": "code",
   "execution_count": null,
   "metadata": {},
   "outputs": [],
   "source": []
  }
 ],
 "metadata": {
  "kernelspec": {
   "display_name": "Python 3",
   "language": "python",
   "name": "python3"
  },
  "language_info": {
   "codemirror_mode": {
    "name": "ipython",
    "version": 3
   },
   "file_extension": ".py",
   "mimetype": "text/x-python",
   "name": "python",
   "nbconvert_exporter": "python",
   "pygments_lexer": "ipython3",
   "version": "3.7.1"
  }
 },
 "nbformat": 4,
 "nbformat_minor": 2
}
